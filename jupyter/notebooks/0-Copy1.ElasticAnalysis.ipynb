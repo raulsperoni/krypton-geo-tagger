{
 "cells": [
  {
   "cell_type": "code",
   "execution_count": 1,
   "metadata": {},
   "outputs": [
    {
     "name": "stderr",
     "output_type": "stream",
     "text": [
      "/usr/local/lib/python2.7/dist-packages/requests/__init__.py:80: RequestsDependencyWarning: urllib3 (1.25.8) or chardet (3.0.4) doesn't match a supported version!\n",
      "  RequestsDependencyWarning)\n"
     ]
    }
   ],
   "source": [
    "# -*- coding: utf-8 -*- \n",
    "from lib import geoSearch\n",
    "import json\n",
    "import logging"
   ]
  },
  {
   "cell_type": "code",
   "execution_count": 2,
   "metadata": {},
   "outputs": [],
   "source": [
    "GS = geoSearch.GeoSearch(\"elasticsearch-geo\",9200)\n",
    "geoSearch.logger.setLevel(logging.DEBUG)\n",
    "from shapely.geometry import mapping, shape"
   ]
  },
  {
   "cell_type": "code",
   "execution_count": 3,
   "metadata": {},
   "outputs": [],
   "source": [
    "#GS.test_kit('test_complete.csv')"
   ]
  },
  {
   "cell_type": "code",
   "execution_count": 4,
   "metadata": {},
   "outputs": [],
   "source": [
    "from elasticsearch import Elasticsearch\n",
    "es = Elasticsearch([{'host': 'elasticsearch-geo', 'port': 9200}])\n",
    "from elasticsearch.client import IndicesClient\n",
    "ic = IndicesClient(es)\n",
    "def analyzedText(text):\n",
    "    results = ic.analyze(index=\"montevideo\", body=\n",
    "    {\n",
    "      \"text\": text, \n",
    "        \"analyzer\":\"calle_analyzer\"\n",
    "    })\n",
    "    return ' '.join([token['token'] for token in results['tokens']])"
   ]
  },
  {
   "cell_type": "code",
   "execution_count": 5,
   "metadata": {},
   "outputs": [
    {
     "name": "stdout",
     "output_type": "stream",
     "text": [
      "ciudad vieja villa espanola\n"
     ]
    }
   ],
   "source": [
    "text = u\"ciudad vieja villa española\"\n",
    "print(analyzedText(text))"
   ]
  },
  {
   "cell_type": "code",
   "execution_count": 6,
   "metadata": {
    "scrolled": true
   },
   "outputs": [
    {
     "name": "stderr",
     "output_type": "stream",
     "text": [
      "/home/user/.local/lib/python2.7/site-packages/unidecode/__init__.py:46: RuntimeWarning: Argument <type 'str'> is not an unicode object. Passing an encoded string will likely have unexpected results.\n",
      "  _warn_if_not_unicode(string)\n",
      "DEBUG:GeoSearch:biblioteca villa colon &  ## 25.805933 \n",
      " -->                 text\n",
      "           variant_1      villa => 0.227\n",
      "\n",
      "DEBUG:GeoSearch:biblioteca banco de la republica oriental del uruguay ciudad vieja &  ## 23.79583 \n",
      " -->                 text\n",
      "           variant_1     ciudad => 0.091\n",
      "           variant_1      vieja => 0.076\n",
      "\n",
      "DEBUG:GeoSearch:biblioteca paco espinola &  ## 23.785797 \n",
      " -->                 text\n",
      "           variant_1   espinola => 0.333\n",
      "\n",
      "DEBUG:GeoSearch:teatro vieja farmacia solis & av agraciada 2623 ## 21.679836 \n",
      " -->                 text\n",
      "           variant_1      vieja => 0.185\n",
      "\n",
      "DEBUG:GeoSearch:FIELD:text\n",
      "min_idx = 7\n",
      "max_idx = 7\n",
      "len_longest = 5\n",
      "highlights_count = 1\n",
      "importance = 0.185185185185\n",
      "DEBUG:GeoSearch:TOTAL = 100.369611111\n",
      "First Score = 100.369611111\n",
      "Second Score = 0\n",
      "Boost Field = 1\n",
      "DEBUG:GeoSearch:museo colegio pio de villa colon &  ## 19.296185 \n",
      " -->                 text\n",
      "           variant_1      villa => 0.156\n",
      "\n",
      "DEBUG:GeoSearch:villa espanola & villa espanola villa espanola ## 63.74329 \n",
      " -->                 text\n",
      "           variant_1   espanola => 0.571\n",
      "           variant_1      villa => 0.357\n",
      "-->         text_aliases\n",
      "           variant_1   espanola => 0.276\n",
      "           variant_1   espanola => 0.276\n",
      "           variant_1      villa => 0.172\n",
      "\n",
      "DEBUG:GeoSearch:FIELD:text\n",
      "min_idx = 13\n",
      "max_idx = 19\n",
      "len_longest = 8\n",
      "highlights_count = 2\n",
      "importance = 0.571428571429\n",
      "DEBUG:GeoSearch:FIELD:text_aliases\n",
      "min_idx = 13\n",
      "max_idx = 19\n",
      "len_longest = 8\n",
      "highlights_count = 3\n",
      "importance = 0.275862068966\n",
      "DEBUG:GeoSearch:TOTAL = 4662.36635429\n",
      "First Score = 4662.36635429\n",
      "Second Score = 3376.19632552\n",
      "Boost Field = 1\n",
      "DEBUG:GeoSearch:ciudad vieja & cidade velha ## 59.670135 \n",
      " -->                 text\n",
      "           variant_1     ciudad => 0.500\n",
      "           variant_1      vieja => 0.417\n",
      "\n",
      "DEBUG:GeoSearch:FIELD:text\n",
      "min_idx = 0\n",
      "max_idx = 7\n",
      "len_longest = 6\n",
      "highlights_count = 2\n",
      "importance = 0.5\n",
      "DEBUG:GeoSearch:TOTAL = 2148.12486\n",
      "First Score = 2148.12486\n",
      "Second Score = 0\n",
      "Boost Field = 1\n",
      "DEBUG:GeoSearch:villa del cerro & vilja del seras villa del cerro ## 35.400173 \n",
      " -->                 text\n",
      "           variant_1      villa => 0.333\n",
      "-->         text_aliases\n",
      "              normal      vilja => 0.161\n",
      "              normal      villa => 0.161\n",
      "\n",
      "DEBUG:GeoSearch:FIELD:text\n",
      "min_idx = 13\n",
      "max_idx = 13\n",
      "len_longest = 5\n",
      "highlights_count = 1\n",
      "importance = 0.333333333333\n",
      "DEBUG:GeoSearch:FIELD:text_aliases\n",
      "min_idx = 13\n",
      "max_idx = 250\n",
      "len_longest = 5\n",
      "highlights_count = 2\n",
      "importance = 0.161290322581\n",
      "DEBUG:GeoSearch:TOTAL = 295.001441667\n",
      "First Score = 295.001441667\n",
      "Second Score = 285.485266129\n",
      "Boost Field = 1\n",
      "DEBUG:GeoSearch:villa dolores & villa dolores ## 31.042286 \n",
      " -->                 text\n",
      "           variant_1      villa => 0.385\n",
      "-->         text_aliases\n",
      "           variant_1      villa => 0.385\n",
      "\n",
      "DEBUG:GeoSearch:FIELD:text\n",
      "min_idx = 13\n",
      "max_idx = 13\n",
      "len_longest = 5\n",
      "highlights_count = 1\n",
      "importance = 0.384615384615\n",
      "DEBUG:GeoSearch:FIELD:text_aliases\n",
      "min_idx = 13\n",
      "max_idx = 13\n",
      "len_longest = 5\n",
      "highlights_count = 1\n",
      "importance = 0.384615384615\n",
      "DEBUG:GeoSearch:TOTAL = 298.483519231\n",
      "First Score = 298.483519231\n",
      "Second Score = 298.483519231\n",
      "Boost Field = 1\n",
      "DEBUG:GeoSearch:villa munoz & villa munoz villa munoz ## 31.042286 \n",
      " -->                 text\n",
      "           variant_1      villa => 0.455\n",
      "-->         text_aliases\n",
      "           variant_1      villa => 0.217\n",
      "\n",
      "DEBUG:GeoSearch:FIELD:text\n",
      "min_idx = 13\n",
      "max_idx = 13\n",
      "len_longest = 5\n",
      "highlights_count = 1\n",
      "importance = 0.454545454545\n",
      "DEBUG:GeoSearch:FIELD:text_aliases\n",
      "min_idx = 13\n",
      "max_idx = 13\n",
      "len_longest = 5\n",
      "highlights_count = 1\n",
      "importance = 0.217391304348\n",
      "DEBUG:GeoSearch:TOTAL = 352.75325\n",
      "First Score = 352.75325\n",
      "Second Score = 168.708076087\n",
      "Boost Field = 1\n",
      "DEBUG:GeoSearch:$$$\n",
      "DEBUG:GeoSearch:FIELD:text\n",
      "min_idx = 13\n",
      "max_idx = 13\n",
      "len_longest = 5\n",
      "highlights_count = 1\n",
      "importance = 0.333333333333\n",
      "DEBUG:GeoSearch:TOTAL = 258.685716667\n",
      "First Score = 258.685716667\n",
      "Boost Field = 1\n"
     ]
    },
    {
     "name": "stdout",
     "output_type": "stream",
     "text": [
      "ciudad vieja villa espanola\n",
      "✔️ MATCH: 4662.366            geonames      villa-espanola&villa-espanola-villa-espanola\n",
      "✔️ MATCH: 2148.125            geonames                         ciudad-vieja&cidade-velha\n",
      "✔️ MATCH: 352.753            geonames               villa-munoz&villa-munoz-villa-munoz\n",
      "✔️ MATCH: 298.484            geonames                       villa-dolores&villa-dolores\n",
      "✔️ MATCH: 295.001            geonames   villa-del-cerro&vilja-del-seras-villa-del-cerro\n",
      "✔️ MATCH: 258.686                vias                                   villa-de-masnou\n",
      "✔️ MATCH: 100.370     lugares_interes     teatro-vieja-farmacia-solis&av-agraciada-2623\n",
      "\n",
      "\n"
     ]
    }
   ],
   "source": [
    "matches = GS.complete_search(text,5)\n",
    "print(GS.strip_name(text, ' '))\n",
    "for key, match in matches:\n",
    "    print('✔️ MATCH: {:.3f}{: >20}{: >50}'.format(\n",
    "        match['score'], \n",
    "        match['field'], \n",
    "        match['name']\n",
    "    ))\n",
    "print('\\n')"
   ]
  },
  {
   "cell_type": "code",
   "execution_count": null,
   "metadata": {
    "scrolled": false
   },
   "outputs": [],
   "source": [
    "for res in GS.search_geonames(text, 'lugares_interes',5):\n",
    "    obj = GS.get_result_object(res)\n",
    "    print(GS.print_object(obj))"
   ]
  },
  {
   "cell_type": "code",
   "execution_count": null,
   "metadata": {},
   "outputs": [],
   "source": [
    "print(matches)"
   ]
  },
  {
   "cell_type": "code",
   "execution_count": null,
   "metadata": {},
   "outputs": [],
   "source": [
    "\\n"
   ]
  }
 ],
 "metadata": {
  "kernelspec": {
   "display_name": "Python 2",
   "language": "python",
   "name": "python2"
  },
  "language_info": {
   "codemirror_mode": {
    "name": "ipython",
    "version": 2
   },
   "file_extension": ".py",
   "mimetype": "text/x-python",
   "name": "python",
   "nbconvert_exporter": "python",
   "pygments_lexer": "ipython2",
   "version": "2.7.13"
  }
 },
 "nbformat": 4,
 "nbformat_minor": 2
}
