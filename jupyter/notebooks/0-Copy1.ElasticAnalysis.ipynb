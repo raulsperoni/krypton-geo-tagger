{
 "cells": [
  {
   "cell_type": "code",
   "execution_count": 1,
   "metadata": {},
   "outputs": [
    {
     "name": "stderr",
     "output_type": "stream",
     "text": [
      "/usr/local/lib/python2.7/dist-packages/requests/__init__.py:80: RequestsDependencyWarning: urllib3 (1.25.8) or chardet (3.0.4) doesn't match a supported version!\n",
      "  RequestsDependencyWarning)\n"
     ]
    }
   ],
   "source": [
    "# -*- coding: utf-8 -*- \n",
    "from lib import geoSearch\n",
    "import json"
   ]
  },
  {
   "cell_type": "code",
   "execution_count": 2,
   "metadata": {},
   "outputs": [],
   "source": [
    "GS = geoSearch.GeoSearch(\"elasticsearch-geo\",9200)\n",
    "from shapely.geometry import mapping, shape"
   ]
  },
  {
   "cell_type": "code",
   "execution_count": 3,
   "metadata": {},
   "outputs": [],
   "source": [
    "#GS.test_kit('test_complete.csv')"
   ]
  },
  {
   "cell_type": "code",
   "execution_count": 4,
   "metadata": {},
   "outputs": [],
   "source": [
    "from elasticsearch import Elasticsearch\n",
    "es = Elasticsearch([{'host': 'elasticsearch-geo', 'port': 9200}])\n",
    "from elasticsearch.client import IndicesClient\n",
    "ic = IndicesClient(es)\n",
    "def analyzedText(text):\n",
    "    results = ic.analyze(index=\"montevideo\", body=\n",
    "    {\n",
    "      \"text\": text, \n",
    "        \"analyzer\":\"calle_analyzer\"\n",
    "    })\n",
    "    return ' '.join([token['token'] for token in results['tokens']])"
   ]
  },
  {
   "cell_type": "code",
   "execution_count": 5,
   "metadata": {},
   "outputs": [
    {
     "name": "stdout",
     "output_type": "stream",
     "text": [
      "limpiavidrios siempre ricaldoni ricaldoni_y y_av av_italia italia italia_frente frente frente_a a_la la_ancap ancap vio vio_a a_un ciego intentaba cruzar fue_y y_lo ayudo en_los los_dos dos tramos tramos_del del_cruce cruce tipo gestos debemos imitar pasas ahi ahi_y y_te pide moneda dale buen tipo https t.co k6b0vpnfq9\n"
     ]
    }
   ],
   "source": [
    "text = u\"Limpiavidrios que está siempre en Ricaldoni y Av Italia (frente a la ancap). Vio a un ciego que intentaba cruzar, fue y lo ayudó en los dos tramos del cruce. Este tipo de gestos debemos imitar. Si pasas por ahí y te pide una moneda, dale. Es buen tipo. https://t.co/K6B0VPNfQ9\"\n",
    "print(analyzedText(text))"
   ]
  },
  {
   "cell_type": "code",
   "execution_count": 6,
   "metadata": {
    "scrolled": false
   },
   "outputs": [
    {
     "name": "stderr",
     "output_type": "stream",
     "text": [
      "DEBUG:GeoSearch:av italia # av dr americo ricaldoni ## 31.87831 \n",
      " -->   text_second_street\n",
      "              normal  RICALDONI => 0.391\n",
      "-->    text_first_street\n",
      "              normal     ITALIA => 0.667\n",
      "           variant_2  AV ITALIA => 1.000\n",
      "\n",
      "/home/user/.local/lib/python2.7/site-packages/unidecode/__init__.py:46: RuntimeWarning: Argument <type 'str'> is not an unicode object. Passing an encoded string will likely have unexpected results.\n",
      "  _warn_if_not_unicode(string)\n",
      "DEBUG:GeoSearch:FIELD:text_first_street\n",
      "min_idx = 46\n",
      "max_idx = 49\n",
      "len_longest = 9\n",
      "highlights_count = 2\n",
      "importance = 1.0\n",
      "DEBUG:GeoSearch:FIELD:text_second_street\n",
      "min_idx = 34\n",
      "max_idx = 34\n",
      "len_longest = 9\n",
      "highlights_count = 1\n",
      "importance = 0.391304347826\n",
      "DEBUG:GeoSearch:TOTAL = 102911.500761\n",
      "First Score = 5164.28622\n",
      "Second Score = 1010.40382565\n",
      "Boost Field = 100\n",
      "Distance = 6\n"
     ]
    },
    {
     "name": "stdout",
     "output_type": "stream",
     "text": [
      "✔️ MATCH: 102911.500761\t/\tcruces_vias\tav-italia#av-dr-americo-ricaldoni\n",
      "\n",
      "\n"
     ]
    }
   ],
   "source": [
    "matches = GS.complete_search(text,10)\n",
    "for nombre, match in matches[:10]:\n",
    "    if match:\n",
    "        shape_1 = shape(match['objects'][0]['geometry'])\n",
    "        print ('✔️ MATCH: {}\\t/\\t{}\\t{}'.format(match['score'],match['field'],nombre))\n",
    "print('\\n')"
   ]
  },
  {
   "cell_type": "code",
   "execution_count": null,
   "metadata": {
    "scrolled": false
   },
   "outputs": [],
   "source": [
    "for res in GS.multi_bool_cruces_calles(text, 50):\n",
    "    obj = GS.get_result_object(res)\n",
    "    print(GS.print_object(obj))"
   ]
  },
  {
   "cell_type": "code",
   "execution_count": null,
   "metadata": {},
   "outputs": [],
   "source": [
    "\\n"
   ]
  }
 ],
 "metadata": {
  "kernelspec": {
   "display_name": "Python 2",
   "language": "python",
   "name": "python2"
  },
  "language_info": {
   "codemirror_mode": {
    "name": "ipython",
    "version": 2
   },
   "file_extension": ".py",
   "mimetype": "text/x-python",
   "name": "python",
   "nbconvert_exporter": "python",
   "pygments_lexer": "ipython2",
   "version": "2.7.13"
  }
 },
 "nbformat": 4,
 "nbformat_minor": 2
}
