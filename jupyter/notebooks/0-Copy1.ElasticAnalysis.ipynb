{
 "cells": [
  {
   "cell_type": "code",
   "execution_count": 1,
   "metadata": {},
   "outputs": [
    {
     "name": "stderr",
     "output_type": "stream",
     "text": [
      "/usr/local/lib/python2.7/dist-packages/requests/__init__.py:80: RequestsDependencyWarning: urllib3 (1.25.8) or chardet (3.0.4) doesn't match a supported version!\n",
      "  RequestsDependencyWarning)\n"
     ]
    }
   ],
   "source": [
    "# -*- coding: utf-8 -*- \n",
    "from lib import geoSearch\n",
    "import json\n",
    "import logging"
   ]
  },
  {
   "cell_type": "code",
   "execution_count": 2,
   "metadata": {},
   "outputs": [],
   "source": [
    "GS = geoSearch.GeoSearch(\"elasticsearch-geo\",9200)\n",
    "geoSearch.logger.setLevel(logging.DEBUG)\n",
    "from shapely.geometry import mapping, shape"
   ]
  },
  {
   "cell_type": "code",
   "execution_count": 3,
   "metadata": {},
   "outputs": [],
   "source": [
    "#GS.test_kit('test_complete.csv')"
   ]
  },
  {
   "cell_type": "code",
   "execution_count": null,
   "metadata": {},
   "outputs": [],
   "source": [
    "from elasticsearch import Elasticsearch\n",
    "es = Elasticsearch([{'host': 'elasticsearch-geo', 'port': 9200}])\n",
    "from elasticsearch.client import IndicesClient\n",
    "ic = IndicesClient(es)\n",
    "def analyzedText(text):\n",
    "    results = ic.analyze(index=\"montevideo\", body=\n",
    "    {\n",
    "      \"text\": text, \n",
    "        \"analyzer\":\"normal_analyzer\"\n",
    "    })\n",
    "    return ' '.join([token['token'] for token in results['tokens']])"
   ]
  },
  {
   "cell_type": "code",
   "execution_count": null,
   "metadata": {},
   "outputs": [],
   "source": [
    "text = u\"plaza zabala\"\n",
    "print(analyzedText(text))"
   ]
  },
  {
   "cell_type": "code",
   "execution_count": null,
   "metadata": {
    "scrolled": true
   },
   "outputs": [],
   "source": [
    "matches = GS.complete_search(text,5)\n",
    "print(GS.strip_name(text, ' '))\n",
    "for key, match in matches:\n",
    "    print('✔️ MATCH: {:.3f}{: >20}{: >50}'.format(\n",
    "        match['score'], \n",
    "        match['field'], \n",
    "        match['name']\n",
    "    ))\n",
    "print('\\n')"
   ]
  },
  {
   "cell_type": "code",
   "execution_count": null,
   "metadata": {
    "scrolled": true
   },
   "outputs": [],
   "source": [
    "for res in GS.search_adversary_fields(text, 'cruces_vias',500):\n",
    "    obj = GS.get_result_object(res)\n",
    "    print(GS.print_object(obj))"
   ]
  },
  {
   "cell_type": "code",
   "execution_count": null,
   "metadata": {},
   "outputs": [],
   "source": [
    "print(matches)"
   ]
  }
 ],
 "metadata": {
  "kernelspec": {
   "display_name": "Python 2",
   "language": "python",
   "name": "python2"
  },
  "language_info": {
   "codemirror_mode": {
    "name": "ipython",
    "version": 2
   },
   "file_extension": ".py",
   "mimetype": "text/x-python",
   "name": "python",
   "nbconvert_exporter": "python",
   "pygments_lexer": "ipython2",
   "version": "2.7.13"
  }
 },
 "nbformat": 4,
 "nbformat_minor": 2
}
