{
 "cells": [
  {
   "cell_type": "code",
   "execution_count": 1,
   "metadata": {},
   "outputs": [
    {
     "name": "stderr",
     "output_type": "stream",
     "text": [
      "/usr/local/lib/python2.7/dist-packages/requests/__init__.py:80: RequestsDependencyWarning: urllib3 (1.25.8) or chardet (3.0.4) doesn't match a supported version!\n",
      "  RequestsDependencyWarning)\n"
     ]
    }
   ],
   "source": [
    "from lib import geoSearch\n",
    "import json, logging\n",
    "GS = geoSearch.GeoSearch(\"elasticsearch-geo\",9200)\n",
    "from shapely.geometry import mapping, shape\n",
    "geoSearch.logger.setLevel(logging.INFO)"
   ]
  },
  {
   "cell_type": "code",
   "execution_count": 2,
   "metadata": {},
   "outputs": [],
   "source": [
    "import pandas as pd\n",
    "import numpy as np\n",
    "from sklearn.metrics import confusion_matrix as cm\n",
    "%matplotlib inline  \n",
    "\n",
    "test_set = pd.read_csv('exactTestDataset.csv', index_col=0, encoding='utf-8')"
   ]
  },
  {
   "cell_type": "code",
   "execution_count": 3,
   "metadata": {},
   "outputs": [
    {
     "data": {
      "text/html": [
       "<div>\n",
       "<style scoped>\n",
       "    .dataframe tbody tr th:only-of-type {\n",
       "        vertical-align: middle;\n",
       "    }\n",
       "\n",
       "    .dataframe tbody tr th {\n",
       "        vertical-align: top;\n",
       "    }\n",
       "\n",
       "    .dataframe thead th {\n",
       "        text-align: right;\n",
       "    }\n",
       "</style>\n",
       "<table border=\"1\" class=\"dataframe\">\n",
       "  <thead>\n",
       "    <tr style=\"text-align: right;\">\n",
       "      <th></th>\n",
       "      <th>ubicacion</th>\n",
       "      <th>alternativa</th>\n",
       "      <th>texto</th>\n",
       "      <th>matchType</th>\n",
       "    </tr>\n",
       "  </thead>\n",
       "  <tbody>\n",
       "    <tr>\n",
       "      <th>0</th>\n",
       "      <td>mercedes#tacuarembo</td>\n",
       "      <td>mercedes#tacuarembo</td>\n",
       "      <td>hola imtransito semaforo esquina tacuarembo es...</td>\n",
       "      <td>cruces_vias</td>\n",
       "    </tr>\n",
       "    <tr>\n",
       "      <th>1</th>\n",
       "      <td>dr-emilio-frugoni#chana</td>\n",
       "      <td>dr-emilio-frugoni#chana</td>\n",
       "      <td>imtransito comomemuevouy mvdtransporte chana e...</td>\n",
       "      <td>cruces_vias</td>\n",
       "    </tr>\n",
       "    <tr>\n",
       "      <th>2</th>\n",
       "      <td>palacio-legislativo-edificio-anexo&amp;palacio-leg...</td>\n",
       "      <td>palacio-legislativo-edificio-anexo&amp;palacio-leg...</td>\n",
       "      <td>montevideo ahora choque esquina palacio legisl...</td>\n",
       "      <td>geonames</td>\n",
       "    </tr>\n",
       "    <tr>\n",
       "      <th>3</th>\n",
       "      <td>santa-cruz-de-la-sierra#vizcaya</td>\n",
       "      <td>santa-cruz-de-la-sierra#vizcaya</td>\n",
       "      <td>sharito17849631 mvddecide belvederegatos munic...</td>\n",
       "      <td>cruces_vias</td>\n",
       "    </tr>\n",
       "    <tr>\n",
       "      <th>4</th>\n",
       "      <td>arenal-grande#colonia</td>\n",
       "      <td>arenal-grande#colonia</td>\n",
       "      <td>hecho historico medicina mundial ciudad montev...</td>\n",
       "      <td>cruces_vias</td>\n",
       "    </tr>\n",
       "  </tbody>\n",
       "</table>\n",
       "</div>"
      ],
      "text/plain": [
       "                                           ubicacion  \\\n",
       "0                                mercedes#tacuarembo   \n",
       "1                            dr-emilio-frugoni#chana   \n",
       "2  palacio-legislativo-edificio-anexo&palacio-leg...   \n",
       "3                    santa-cruz-de-la-sierra#vizcaya   \n",
       "4                              arenal-grande#colonia   \n",
       "\n",
       "                                         alternativa  \\\n",
       "0                                mercedes#tacuarembo   \n",
       "1                            dr-emilio-frugoni#chana   \n",
       "2  palacio-legislativo-edificio-anexo&palacio-leg...   \n",
       "3                    santa-cruz-de-la-sierra#vizcaya   \n",
       "4                              arenal-grande#colonia   \n",
       "\n",
       "                                               texto    matchType  \n",
       "0  hola imtransito semaforo esquina tacuarembo es...  cruces_vias  \n",
       "1  imtransito comomemuevouy mvdtransporte chana e...  cruces_vias  \n",
       "2  montevideo ahora choque esquina palacio legisl...     geonames  \n",
       "3  sharito17849631 mvddecide belvederegatos munic...  cruces_vias  \n",
       "4  hecho historico medicina mundial ciudad montev...  cruces_vias  "
      ]
     },
     "execution_count": 3,
     "metadata": {},
     "output_type": "execute_result"
    }
   ],
   "source": [
    "test_set.head()"
   ]
  },
  {
   "cell_type": "code",
   "execution_count": 4,
   "metadata": {},
   "outputs": [],
   "source": [
    "score_limit = 0"
   ]
  },
  {
   "cell_type": "code",
   "execution_count": 5,
   "metadata": {},
   "outputs": [
    {
     "name": "stderr",
     "output_type": "stream",
     "text": [
      "/home/user/.local/lib/python2.7/site-packages/unidecode/__init__.py:46: RuntimeWarning: Argument <type 'str'> is not an unicode object. Passing an encoded string will likely have unexpected results.\n",
      "  _warn_if_not_unicode(string)\n"
     ]
    }
   ],
   "source": [
    "test_set_run = GS.test_kit('exactTestDataset.csv', score_limit)"
   ]
  },
  {
   "cell_type": "code",
   "execution_count": 6,
   "metadata": {},
   "outputs": [
    {
     "data": {
      "text/html": [
       "<div>\n",
       "<style scoped>\n",
       "    .dataframe tbody tr th:only-of-type {\n",
       "        vertical-align: middle;\n",
       "    }\n",
       "\n",
       "    .dataframe tbody tr th {\n",
       "        vertical-align: top;\n",
       "    }\n",
       "\n",
       "    .dataframe thead th {\n",
       "        text-align: right;\n",
       "    }\n",
       "</style>\n",
       "<table border=\"1\" class=\"dataframe\">\n",
       "  <thead>\n",
       "    <tr style=\"text-align: right;\">\n",
       "      <th></th>\n",
       "      <th>ubicacion</th>\n",
       "      <th>alternativa</th>\n",
       "      <th>texto</th>\n",
       "      <th>matchType</th>\n",
       "      <th>ubicacionEncontrada</th>\n",
       "      <th>scoreMejorMatch</th>\n",
       "      <th>tipoUbicacionEncontrada</th>\n",
       "      <th>time_ms</th>\n",
       "    </tr>\n",
       "  </thead>\n",
       "  <tbody>\n",
       "    <tr>\n",
       "      <th>0</th>\n",
       "      <td>mercedes#tacuarembo</td>\n",
       "      <td>mercedes#tacuarembo</td>\n",
       "      <td>hola imtransito semaforo esquina tacuarembo es...</td>\n",
       "      <td>cruces_vias</td>\n",
       "      <td>mercedes#tacuarembo</td>\n",
       "      <td>319055.469818</td>\n",
       "      <td>cruces_vias</td>\n",
       "      <td>51.424</td>\n",
       "    </tr>\n",
       "    <tr>\n",
       "      <th>1</th>\n",
       "      <td>dr-emilio-frugoni#chana</td>\n",
       "      <td>dr-emilio-frugoni#chana</td>\n",
       "      <td>imtransito comomemuevouy mvdtransporte chana e...</td>\n",
       "      <td>cruces_vias</td>\n",
       "      <td>dr-emilio-frugoni#chana</td>\n",
       "      <td>50818.370978</td>\n",
       "      <td>cruces_vias</td>\n",
       "      <td>21.695</td>\n",
       "    </tr>\n",
       "    <tr>\n",
       "      <th>2</th>\n",
       "      <td>palacio-legislativo-edificio-anexo&amp;palacio-leg...</td>\n",
       "      <td>palacio-legislativo-edificio-anexo&amp;palacio-leg...</td>\n",
       "      <td>montevideo ahora choque esquina palacio legisl...</td>\n",
       "      <td>geonames</td>\n",
       "      <td>palacio-legislativo-edificio-anexo&amp;palacio-leg...</td>\n",
       "      <td>1420.020446</td>\n",
       "      <td>geonames</td>\n",
       "      <td>27.550</td>\n",
       "    </tr>\n",
       "    <tr>\n",
       "      <th>3</th>\n",
       "      <td>santa-cruz-de-la-sierra#vizcaya</td>\n",
       "      <td>santa-cruz-de-la-sierra#vizcaya</td>\n",
       "      <td>sharito17849631 mvddecide belvederegatos munic...</td>\n",
       "      <td>cruces_vias</td>\n",
       "      <td>santa-cruz-de-la-sierra#vizcaya</td>\n",
       "      <td>521006.657877</td>\n",
       "      <td>cruces_vias</td>\n",
       "      <td>69.156</td>\n",
       "    </tr>\n",
       "    <tr>\n",
       "      <th>4</th>\n",
       "      <td>arenal-grande#colonia</td>\n",
       "      <td>arenal-grande#colonia</td>\n",
       "      <td>hecho historico medicina mundial ciudad montev...</td>\n",
       "      <td>cruces_vias</td>\n",
       "      <td>arenal-grande#colonia</td>\n",
       "      <td>231109.028718</td>\n",
       "      <td>cruces_vias</td>\n",
       "      <td>53.656</td>\n",
       "    </tr>\n",
       "  </tbody>\n",
       "</table>\n",
       "</div>"
      ],
      "text/plain": [
       "                                           ubicacion  \\\n",
       "0                                mercedes#tacuarembo   \n",
       "1                            dr-emilio-frugoni#chana   \n",
       "2  palacio-legislativo-edificio-anexo&palacio-leg...   \n",
       "3                    santa-cruz-de-la-sierra#vizcaya   \n",
       "4                              arenal-grande#colonia   \n",
       "\n",
       "                                         alternativa  \\\n",
       "0                                mercedes#tacuarembo   \n",
       "1                            dr-emilio-frugoni#chana   \n",
       "2  palacio-legislativo-edificio-anexo&palacio-leg...   \n",
       "3                    santa-cruz-de-la-sierra#vizcaya   \n",
       "4                              arenal-grande#colonia   \n",
       "\n",
       "                                               texto    matchType  \\\n",
       "0  hola imtransito semaforo esquina tacuarembo es...  cruces_vias   \n",
       "1  imtransito comomemuevouy mvdtransporte chana e...  cruces_vias   \n",
       "2  montevideo ahora choque esquina palacio legisl...     geonames   \n",
       "3  sharito17849631 mvddecide belvederegatos munic...  cruces_vias   \n",
       "4  hecho historico medicina mundial ciudad montev...  cruces_vias   \n",
       "\n",
       "                                 ubicacionEncontrada  scoreMejorMatch  \\\n",
       "0                                mercedes#tacuarembo    319055.469818   \n",
       "1                            dr-emilio-frugoni#chana     50818.370978   \n",
       "2  palacio-legislativo-edificio-anexo&palacio-leg...      1420.020446   \n",
       "3                    santa-cruz-de-la-sierra#vizcaya    521006.657877   \n",
       "4                              arenal-grande#colonia    231109.028718   \n",
       "\n",
       "  tipoUbicacionEncontrada  time_ms  \n",
       "0             cruces_vias   51.424  \n",
       "1             cruces_vias   21.695  \n",
       "2                geonames   27.550  \n",
       "3             cruces_vias   69.156  \n",
       "4             cruces_vias   53.656  "
      ]
     },
     "execution_count": 6,
     "metadata": {},
     "output_type": "execute_result"
    }
   ],
   "source": [
    "test_set_run.head()"
   ]
  },
  {
   "cell_type": "code",
   "execution_count": 7,
   "metadata": {},
   "outputs": [
    {
     "data": {
      "text/plain": [
       "array([[<matplotlib.axes._subplots.AxesSubplot object at 0x7f59b5218650>]], dtype=object)"
      ]
     },
     "execution_count": 7,
     "metadata": {},
     "output_type": "execute_result"
    },
    {
     "data": {
      "image/png": "[encoded data removed]",
      "text/plain": [
       "<matplotlib.figure.Figure at 0x7f59ed6eb410>"
      ]
     },
     "metadata": {},
     "output_type": "display_data"
    }
   ],
   "source": [
    "test_set_run.hist(column='time_ms', log=True)"
   ]
  },
  {
   "cell_type": "code",
   "execution_count": 8,
   "metadata": {},
   "outputs": [],
   "source": [
    "test_set_run['truthLocation'] = np.where(test_set_run['ubicacion'] != '-', True, False)\n",
    "test_set_run['truthTypeLocation'] = np.where(test_set_run['matchType'] != '-', True, False)"
   ]
  },
  {
   "cell_type": "code",
   "execution_count": 32,
   "metadata": {},
   "outputs": [],
   "source": [
    "def getFoundLocation(row):\n",
    "    \"\"\"\n",
    "    Tiene ubicacion y encontre ubicacion correcta => True\n",
    "    Tiene ubicacion y no encontré o encontré mal => False\n",
    "    No tiene ubicacion y encontré algo => True\n",
    "    No tiene ubicación y no encontré => False\n",
    "    \"\"\"\n",
    "    if row['ubicacion'] != '-' and row['ubicacionEncontrada'] in [row['ubicacion'], row['alternativa']]:\n",
    "        return True\n",
    "    elif row['ubicacion'] != '-':\n",
    "        return False\n",
    "    elif row['ubicacionEncontrada'] != '-':\n",
    "        return True\n",
    "    else: \n",
    "        return False"
   ]
  },
  {
   "cell_type": "code",
   "execution_count": 33,
   "metadata": {},
   "outputs": [],
   "source": [
    "test_set_run['foundExactLocation'] = test_set_run.apply(lambda row: getFoundLocation(row),axis=1)\n",
    "test_set_run['foundLocationType'] = np.where(\n",
    "    (test_set_run['matchType'] == test_set_run['tipoUbicacionEncontrada']),True, False)"
   ]
  },
  {
   "cell_type": "code",
   "execution_count": 34,
   "metadata": {},
   "outputs": [
    {
     "data": {
      "text/plain": [
       "array([[178, 287],\n",
       "       [ 12, 110]])"
      ]
     },
     "execution_count": 34,
     "metadata": {},
     "output_type": "execute_result"
    }
   ],
   "source": [
    "cm(test_set_run['truthLocation'], test_set_run['foundExactLocation'])"
   ]
  },
  {
   "cell_type": "code",
   "execution_count": 35,
   "metadata": {},
   "outputs": [
    {
     "data": {
      "text/plain": [
       "array([[288, 178],\n",
       "       [  1, 120]])"
      ]
     },
     "execution_count": 35,
     "metadata": {},
     "output_type": "execute_result"
    }
   ],
   "source": [
    "cm(test_set_run['truthTypeLocation'], test_set_run['foundLocationType'])"
   ]
  },
  {
   "cell_type": "code",
   "execution_count": 36,
   "metadata": {},
   "outputs": [],
   "source": [
    "test_set_run.to_csv('exactTestDatasetResult-Limit:{}.csv'.format(score_limit))"
   ]
  },
  {
   "cell_type": "code",
   "execution_count": null,
   "metadata": {},
   "outputs": [],
   "source": []
  }
 ],
 "metadata": {
  "kernelspec": {
   "display_name": "Python 2",
   "language": "python",
   "name": "python2"
  },
  "language_info": {
   "codemirror_mode": {
    "name": "ipython",
    "version": 2
   },
   "file_extension": ".py",
   "mimetype": "text/x-python",
   "name": "python",
   "nbconvert_exporter": "python",
   "pygments_lexer": "ipython2",
   "version": "2.7.13"
  }
 },
 "nbformat": 4,
 "nbformat_minor": 2
}
