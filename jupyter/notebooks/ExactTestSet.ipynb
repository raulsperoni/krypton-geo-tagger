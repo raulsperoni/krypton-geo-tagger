{
 "cells": [
  {
   "cell_type": "code",
   "execution_count": 1,
   "metadata": {},
   "outputs": [
    {
     "name": "stderr",
     "output_type": "stream",
     "text": [
      "/usr/local/lib/python2.7/dist-packages/requests/__init__.py:80: RequestsDependencyWarning: urllib3 (1.25.8) or chardet (3.0.4) doesn't match a supported version!\n",
      "  RequestsDependencyWarning)\n"
     ]
    }
   ],
   "source": [
    "from lib import geoSearch\n",
    "import json, logging\n",
    "GS = geoSearch.GeoSearch(\"elasticsearch-geo\",9200)\n",
    "from shapely.geometry import mapping, shape\n",
    "geoSearch.logger.setLevel(logging.INFO)"
   ]
  },
  {
   "cell_type": "code",
   "execution_count": 2,
   "metadata": {},
   "outputs": [],
   "source": [
    "import pandas as pd\n",
    "import numpy as np\n",
    "from sklearn.metrics import confusion_matrix as cm\n",
    "%matplotlib inline  \n",
    "\n",
    "test_set = pd.read_csv('exactTestDataset.csv', index_col=0, encoding='utf-8')"
   ]
  },
  {
   "cell_type": "code",
   "execution_count": 3,
   "metadata": {},
   "outputs": [
    {
     "data": {
      "text/html": [
       "<div>\n",
       "<style scoped>\n",
       "    .dataframe tbody tr th:only-of-type {\n",
       "        vertical-align: middle;\n",
       "    }\n",
       "\n",
       "    .dataframe tbody tr th {\n",
       "        vertical-align: top;\n",
       "    }\n",
       "\n",
       "    .dataframe thead th {\n",
       "        text-align: right;\n",
       "    }\n",
       "</style>\n",
       "<table border=\"1\" class=\"dataframe\">\n",
       "  <thead>\n",
       "    <tr style=\"text-align: right;\">\n",
       "      <th></th>\n",
       "      <th>ubicacion</th>\n",
       "      <th>alternativa</th>\n",
       "      <th>texto</th>\n",
       "      <th>matchType</th>\n",
       "    </tr>\n",
       "  </thead>\n",
       "  <tbody>\n",
       "    <tr>\n",
       "      <th>0</th>\n",
       "      <td>mercedes#tacuarembo</td>\n",
       "      <td>tacuarembo#mercedes</td>\n",
       "      <td>hola imtransito semaforo esquina tacuarembo es...</td>\n",
       "      <td>cruces_vias</td>\n",
       "    </tr>\n",
       "    <tr>\n",
       "      <th>1</th>\n",
       "      <td>dr-emilio-frugoni#chana</td>\n",
       "      <td>chana#dr-emilio-frugoni</td>\n",
       "      <td>imtransito comomemuevouy mvdtransporte chana e...</td>\n",
       "      <td>cruces_vias</td>\n",
       "    </tr>\n",
       "    <tr>\n",
       "      <th>2</th>\n",
       "      <td>palacio-legislativo-edificio-anexo&amp;palacio-leg...</td>\n",
       "      <td>palacio-legislativo-edificio-anexo&amp;palacio-leg...</td>\n",
       "      <td>montevideo ahora choque esquina palacio legisl...</td>\n",
       "      <td>geonames</td>\n",
       "    </tr>\n",
       "    <tr>\n",
       "      <th>3</th>\n",
       "      <td>santa-cruz-de-la-sierra#vizcaya</td>\n",
       "      <td>vizcaya#santa-cruz-de-la-sierra</td>\n",
       "      <td>sharito17849631 mvddecide belvederegatos munic...</td>\n",
       "      <td>cruces_vias</td>\n",
       "    </tr>\n",
       "    <tr>\n",
       "      <th>4</th>\n",
       "      <td>arenal-grande#colonia</td>\n",
       "      <td>colonia#arenal-grande</td>\n",
       "      <td>hecho historico medicina mundial ciudad montev...</td>\n",
       "      <td>cruces_vias</td>\n",
       "    </tr>\n",
       "  </tbody>\n",
       "</table>\n",
       "</div>"
      ],
      "text/plain": [
       "                                           ubicacion  \\\n",
       "0                                mercedes#tacuarembo   \n",
       "1                            dr-emilio-frugoni#chana   \n",
       "2  palacio-legislativo-edificio-anexo&palacio-leg...   \n",
       "3                    santa-cruz-de-la-sierra#vizcaya   \n",
       "4                              arenal-grande#colonia   \n",
       "\n",
       "                                         alternativa  \\\n",
       "0                                tacuarembo#mercedes   \n",
       "1                            chana#dr-emilio-frugoni   \n",
       "2  palacio-legislativo-edificio-anexo&palacio-leg...   \n",
       "3                    vizcaya#santa-cruz-de-la-sierra   \n",
       "4                              colonia#arenal-grande   \n",
       "\n",
       "                                               texto    matchType  \n",
       "0  hola imtransito semaforo esquina tacuarembo es...  cruces_vias  \n",
       "1  imtransito comomemuevouy mvdtransporte chana e...  cruces_vias  \n",
       "2  montevideo ahora choque esquina palacio legisl...     geonames  \n",
       "3  sharito17849631 mvddecide belvederegatos munic...  cruces_vias  \n",
       "4  hecho historico medicina mundial ciudad montev...  cruces_vias  "
      ]
     },
     "execution_count": 3,
     "metadata": {},
     "output_type": "execute_result"
    }
   ],
   "source": [
    "test_set.head()"
   ]
  },
  {
   "cell_type": "code",
   "execution_count": 4,
   "metadata": {},
   "outputs": [],
   "source": [
    "def getAlternativa(text):\n",
    "    parts = text.split('#')\n",
    "    if len(parts)>1:\n",
    "        return '#'.join([parts[1], parts[0]])\n",
    "    else:\n",
    "        return text"
   ]
  },
  {
   "cell_type": "code",
   "execution_count": 5,
   "metadata": {},
   "outputs": [],
   "source": [
    "test_set['alternativa'] = test_set.apply(lambda row: getAlternativa(str(row.ubicacion)),axis=1)"
   ]
  },
  {
   "cell_type": "code",
   "execution_count": 6,
   "metadata": {},
   "outputs": [
    {
     "data": {
      "text/html": [
       "<div>\n",
       "<style scoped>\n",
       "    .dataframe tbody tr th:only-of-type {\n",
       "        vertical-align: middle;\n",
       "    }\n",
       "\n",
       "    .dataframe tbody tr th {\n",
       "        vertical-align: top;\n",
       "    }\n",
       "\n",
       "    .dataframe thead th {\n",
       "        text-align: right;\n",
       "    }\n",
       "</style>\n",
       "<table border=\"1\" class=\"dataframe\">\n",
       "  <thead>\n",
       "    <tr style=\"text-align: right;\">\n",
       "      <th></th>\n",
       "      <th>ubicacion</th>\n",
       "      <th>alternativa</th>\n",
       "      <th>texto</th>\n",
       "      <th>matchType</th>\n",
       "    </tr>\n",
       "  </thead>\n",
       "  <tbody>\n",
       "    <tr>\n",
       "      <th>0</th>\n",
       "      <td>mercedes#tacuarembo</td>\n",
       "      <td>tacuarembo#mercedes</td>\n",
       "      <td>hola imtransito semaforo esquina tacuarembo es...</td>\n",
       "      <td>cruces_vias</td>\n",
       "    </tr>\n",
       "    <tr>\n",
       "      <th>1</th>\n",
       "      <td>dr-emilio-frugoni#chana</td>\n",
       "      <td>chana#dr-emilio-frugoni</td>\n",
       "      <td>imtransito comomemuevouy mvdtransporte chana e...</td>\n",
       "      <td>cruces_vias</td>\n",
       "    </tr>\n",
       "    <tr>\n",
       "      <th>2</th>\n",
       "      <td>palacio-legislativo-edificio-anexo&amp;palacio-leg...</td>\n",
       "      <td>palacio-legislativo-edificio-anexo&amp;palacio-leg...</td>\n",
       "      <td>montevideo ahora choque esquina palacio legisl...</td>\n",
       "      <td>geonames</td>\n",
       "    </tr>\n",
       "    <tr>\n",
       "      <th>3</th>\n",
       "      <td>santa-cruz-de-la-sierra#vizcaya</td>\n",
       "      <td>vizcaya#santa-cruz-de-la-sierra</td>\n",
       "      <td>sharito17849631 mvddecide belvederegatos munic...</td>\n",
       "      <td>cruces_vias</td>\n",
       "    </tr>\n",
       "    <tr>\n",
       "      <th>4</th>\n",
       "      <td>arenal-grande#colonia</td>\n",
       "      <td>colonia#arenal-grande</td>\n",
       "      <td>hecho historico medicina mundial ciudad montev...</td>\n",
       "      <td>cruces_vias</td>\n",
       "    </tr>\n",
       "  </tbody>\n",
       "</table>\n",
       "</div>"
      ],
      "text/plain": [
       "                                           ubicacion  \\\n",
       "0                                mercedes#tacuarembo   \n",
       "1                            dr-emilio-frugoni#chana   \n",
       "2  palacio-legislativo-edificio-anexo&palacio-leg...   \n",
       "3                    santa-cruz-de-la-sierra#vizcaya   \n",
       "4                              arenal-grande#colonia   \n",
       "\n",
       "                                         alternativa  \\\n",
       "0                                tacuarembo#mercedes   \n",
       "1                            chana#dr-emilio-frugoni   \n",
       "2  palacio-legislativo-edificio-anexo&palacio-leg...   \n",
       "3                    vizcaya#santa-cruz-de-la-sierra   \n",
       "4                              colonia#arenal-grande   \n",
       "\n",
       "                                               texto    matchType  \n",
       "0  hola imtransito semaforo esquina tacuarembo es...  cruces_vias  \n",
       "1  imtransito comomemuevouy mvdtransporte chana e...  cruces_vias  \n",
       "2  montevideo ahora choque esquina palacio legisl...     geonames  \n",
       "3  sharito17849631 mvddecide belvederegatos munic...  cruces_vias  \n",
       "4  hecho historico medicina mundial ciudad montev...  cruces_vias  "
      ]
     },
     "execution_count": 6,
     "metadata": {},
     "output_type": "execute_result"
    }
   ],
   "source": [
    "test_set.head()"
   ]
  },
  {
   "cell_type": "code",
   "execution_count": 7,
   "metadata": {},
   "outputs": [],
   "source": [
    "test_set.to_csv('exactTestDataset.csv')"
   ]
  },
  {
   "cell_type": "code",
   "execution_count": 9,
   "metadata": {},
   "outputs": [],
   "source": [
    "score_limit = 0\n",
    "result_size = 50"
   ]
  },
  {
   "cell_type": "code",
   "execution_count": 10,
   "metadata": {},
   "outputs": [
    {
     "name": "stderr",
     "output_type": "stream",
     "text": [
      "/home/user/.local/lib/python2.7/site-packages/unidecode/__init__.py:46: RuntimeWarning: Argument <type 'str'> is not an unicode object. Passing an encoded string will likely have unexpected results.\n",
      "  _warn_if_not_unicode(string)\n"
     ]
    }
   ],
   "source": [
    "test_set_run = GS.test_kit('exactTestDataset.csv', score_limit, result_size)"
   ]
  },
  {
   "cell_type": "code",
   "execution_count": 11,
   "metadata": {},
   "outputs": [
    {
     "data": {
      "text/html": [
       "<div>\n",
       "<style scoped>\n",
       "    .dataframe tbody tr th:only-of-type {\n",
       "        vertical-align: middle;\n",
       "    }\n",
       "\n",
       "    .dataframe tbody tr th {\n",
       "        vertical-align: top;\n",
       "    }\n",
       "\n",
       "    .dataframe thead th {\n",
       "        text-align: right;\n",
       "    }\n",
       "</style>\n",
       "<table border=\"1\" class=\"dataframe\">\n",
       "  <thead>\n",
       "    <tr style=\"text-align: right;\">\n",
       "      <th></th>\n",
       "      <th>ubicacion</th>\n",
       "      <th>alternativa</th>\n",
       "      <th>texto</th>\n",
       "      <th>matchType</th>\n",
       "      <th>ubicacionEncontrada</th>\n",
       "      <th>scoreMejorMatch</th>\n",
       "      <th>tipoUbicacionEncontrada</th>\n",
       "      <th>time_ms</th>\n",
       "    </tr>\n",
       "  </thead>\n",
       "  <tbody>\n",
       "    <tr>\n",
       "      <th>0</th>\n",
       "      <td>mercedes#tacuarembo</td>\n",
       "      <td>tacuarembo#mercedes</td>\n",
       "      <td>hola imtransito semaforo esquina tacuarembo es...</td>\n",
       "      <td>cruces_vias</td>\n",
       "      <td>mercedes#tacuarembo</td>\n",
       "      <td>12.596810</td>\n",
       "      <td>cruces_vias</td>\n",
       "      <td>46.887</td>\n",
       "    </tr>\n",
       "    <tr>\n",
       "      <th>1</th>\n",
       "      <td>dr-emilio-frugoni#chana</td>\n",
       "      <td>chana#dr-emilio-frugoni</td>\n",
       "      <td>imtransito comomemuevouy mvdtransporte chana e...</td>\n",
       "      <td>cruces_vias</td>\n",
       "      <td>dr-emilio-frugoni#chana</td>\n",
       "      <td>10.633228</td>\n",
       "      <td>cruces_vias</td>\n",
       "      <td>15.758</td>\n",
       "    </tr>\n",
       "    <tr>\n",
       "      <th>2</th>\n",
       "      <td>palacio-legislativo-edificio-anexo&amp;palacio-leg...</td>\n",
       "      <td>palacio-legislativo-edificio-anexo&amp;palacio-leg...</td>\n",
       "      <td>montevideo ahora choque esquina palacio legisl...</td>\n",
       "      <td>geonames</td>\n",
       "      <td>palacio-legislativo-edificio-anexo&amp;palacio-leg...</td>\n",
       "      <td>8.750425</td>\n",
       "      <td>geonames</td>\n",
       "      <td>22.627</td>\n",
       "    </tr>\n",
       "    <tr>\n",
       "      <th>3</th>\n",
       "      <td>santa-cruz-de-la-sierra#vizcaya</td>\n",
       "      <td>vizcaya#santa-cruz-de-la-sierra</td>\n",
       "      <td>sharito17849631 mvddecide belvederegatos munic...</td>\n",
       "      <td>cruces_vias</td>\n",
       "      <td>santa-cruz-de-la-sierra#vizcaya</td>\n",
       "      <td>12.894230</td>\n",
       "      <td>cruces_vias</td>\n",
       "      <td>40.359</td>\n",
       "    </tr>\n",
       "    <tr>\n",
       "      <th>4</th>\n",
       "      <td>arenal-grande#colonia</td>\n",
       "      <td>colonia#arenal-grande</td>\n",
       "      <td>hecho historico medicina mundial ciudad montev...</td>\n",
       "      <td>cruces_vias</td>\n",
       "      <td>arenal-grande#colonia</td>\n",
       "      <td>12.066287</td>\n",
       "      <td>cruces_vias</td>\n",
       "      <td>42.319</td>\n",
       "    </tr>\n",
       "  </tbody>\n",
       "</table>\n",
       "</div>"
      ],
      "text/plain": [
       "                                           ubicacion  \\\n",
       "0                                mercedes#tacuarembo   \n",
       "1                            dr-emilio-frugoni#chana   \n",
       "2  palacio-legislativo-edificio-anexo&palacio-leg...   \n",
       "3                    santa-cruz-de-la-sierra#vizcaya   \n",
       "4                              arenal-grande#colonia   \n",
       "\n",
       "                                         alternativa  \\\n",
       "0                                tacuarembo#mercedes   \n",
       "1                            chana#dr-emilio-frugoni   \n",
       "2  palacio-legislativo-edificio-anexo&palacio-leg...   \n",
       "3                    vizcaya#santa-cruz-de-la-sierra   \n",
       "4                              colonia#arenal-grande   \n",
       "\n",
       "                                               texto    matchType  \\\n",
       "0  hola imtransito semaforo esquina tacuarembo es...  cruces_vias   \n",
       "1  imtransito comomemuevouy mvdtransporte chana e...  cruces_vias   \n",
       "2  montevideo ahora choque esquina palacio legisl...     geonames   \n",
       "3  sharito17849631 mvddecide belvederegatos munic...  cruces_vias   \n",
       "4  hecho historico medicina mundial ciudad montev...  cruces_vias   \n",
       "\n",
       "                                 ubicacionEncontrada  scoreMejorMatch  \\\n",
       "0                                mercedes#tacuarembo        12.596810   \n",
       "1                            dr-emilio-frugoni#chana        10.633228   \n",
       "2  palacio-legislativo-edificio-anexo&palacio-leg...         8.750425   \n",
       "3                    santa-cruz-de-la-sierra#vizcaya        12.894230   \n",
       "4                              arenal-grande#colonia        12.066287   \n",
       "\n",
       "  tipoUbicacionEncontrada  time_ms  \n",
       "0             cruces_vias   46.887  \n",
       "1             cruces_vias   15.758  \n",
       "2                geonames   22.627  \n",
       "3             cruces_vias   40.359  \n",
       "4             cruces_vias   42.319  "
      ]
     },
     "execution_count": 11,
     "metadata": {},
     "output_type": "execute_result"
    }
   ],
   "source": [
    "test_set_run.head()"
   ]
  },
  {
   "cell_type": "code",
   "execution_count": 12,
   "metadata": {},
   "outputs": [
    {
     "data": {
      "text/plain": [
       "array([[<matplotlib.axes._subplots.AxesSubplot object at 0x7fa5cb051990>]], dtype=object)"
      ]
     },
     "execution_count": 12,
     "metadata": {},
     "output_type": "execute_result"
    },
    {
     "data": {
      "image/png": "[encoded data removed]",
      "text/plain": [
       "<matplotlib.figure.Figure at 0x7fa5cb845bd0>"
      ]
     },
     "metadata": {},
     "output_type": "display_data"
    }
   ],
   "source": [
    "test_set_run.hist(column='scoreMejorMatch')"
   ]
  },
  {
   "cell_type": "code",
   "execution_count": 13,
   "metadata": {},
   "outputs": [],
   "source": [
    "test_set_run['truthLocation'] = np.where(test_set_run['ubicacion'] != '-', True, False)\n",
    "test_set_run['truthTypeLocation'] = np.where(test_set_run['matchType'] != '-', True, False)"
   ]
  },
  {
   "cell_type": "code",
   "execution_count": 14,
   "metadata": {},
   "outputs": [],
   "source": [
    "def getFoundLocation(row):\n",
    "    \"\"\"\n",
    "    Tiene ubicacion y encontre ubicacion correcta => True\n",
    "    Tiene ubicacion y no encontré o encontré mal => False\n",
    "    No tiene ubicacion y encontré algo => True\n",
    "    No tiene ubicación y no encontré => False\n",
    "    \"\"\"\n",
    "    if row['ubicacion'] != '-' and row['ubicacionEncontrada'] in [row['ubicacion'], row['alternativa']]:\n",
    "        return True\n",
    "    elif row['ubicacion'] != '-':\n",
    "        return False\n",
    "    elif row['ubicacionEncontrada'] != '-':\n",
    "        return True\n",
    "    else: \n",
    "        return False"
   ]
  },
  {
   "cell_type": "code",
   "execution_count": 15,
   "metadata": {},
   "outputs": [],
   "source": [
    "test_set_run['foundExactLocation'] = test_set_run.apply(lambda row: getFoundLocation(row),axis=1)\n",
    "test_set_run['foundLocationType'] = np.where(\n",
    "    (test_set_run['matchType'] == test_set_run['tipoUbicacionEncontrada']),True, False)"
   ]
  },
  {
   "cell_type": "code",
   "execution_count": 16,
   "metadata": {},
   "outputs": [
    {
     "data": {
      "text/plain": [
       "array([[196, 270],\n",
       "       [ 18, 103]])"
      ]
     },
     "execution_count": 16,
     "metadata": {},
     "output_type": "execute_result"
    }
   ],
   "source": [
    "cm(test_set_run['truthLocation'], test_set_run['foundExactLocation'])"
   ]
  },
  {
   "cell_type": "code",
   "execution_count": 17,
   "metadata": {},
   "outputs": [
    {
     "data": {
      "text/plain": [
       "array([[270, 196],\n",
       "       [  2, 119]])"
      ]
     },
     "execution_count": 17,
     "metadata": {},
     "output_type": "execute_result"
    }
   ],
   "source": [
    "cm(test_set_run['truthTypeLocation'], test_set_run['foundLocationType'])"
   ]
  },
  {
   "cell_type": "code",
   "execution_count": 18,
   "metadata": {},
   "outputs": [],
   "source": [
    "test_set_run.to_csv('exactTestDatasetResult-Limit:{}-Results:{}.csv'.format(score_limit,result_size))"
   ]
  },
  {
   "cell_type": "code",
   "execution_count": null,
   "metadata": {},
   "outputs": [],
   "source": []
  }
 ],
 "metadata": {
  "kernelspec": {
   "display_name": "Python 2",
   "language": "python",
   "name": "python2"
  },
  "language_info": {
   "codemirror_mode": {
    "name": "ipython",
    "version": 2
   },
   "file_extension": ".py",
   "mimetype": "text/x-python",
   "name": "python",
   "nbconvert_exporter": "python",
   "pygments_lexer": "ipython2",
   "version": "2.7.13"
  }
 },
 "nbformat": 4,
 "nbformat_minor": 2
}
