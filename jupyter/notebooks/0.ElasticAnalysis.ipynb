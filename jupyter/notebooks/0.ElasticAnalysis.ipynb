{
 "cells": [
  {
   "cell_type": "code",
   "execution_count": 1,
   "metadata": {},
   "outputs": [
    {
     "name": "stderr",
     "output_type": "stream",
     "text": [
      "/usr/local/lib/python2.7/dist-packages/requests/__init__.py:80: RequestsDependencyWarning: urllib3 (1.25.8) or chardet (3.0.4) doesn't match a supported version!\n",
      "  RequestsDependencyWarning)\n"
     ]
    }
   ],
   "source": [
    "from datetime import datetime\n",
    "from elasticsearch import Elasticsearch\n",
    "es = Elasticsearch([{'host': 'elasticsearch', 'port': 9200}])"
   ]
  },
  {
   "cell_type": "code",
   "execution_count": 148,
   "metadata": {},
   "outputs": [],
   "source": [
    "import time\n",
    "def timing(f):\n",
    "    def wrap(*args):\n",
    "        time1 = time.time()\n",
    "        ret = f(*args)\n",
    "        time2 = time.time()\n",
    "        print('{:s} function took {:.3f} ms'.format(f.__name__, (time2-time1)*1000.0))\n",
    "\n",
    "        return ret\n",
    "    return wrap"
   ]
  },
  {
   "cell_type": "code",
   "execution_count": 2,
   "metadata": {},
   "outputs": [
    {
     "data": {
      "text/plain": [
       "{u'.apm-agent-configuration': {u'aliases': {}},\n",
       " u'.kibana_1': {u'aliases': {u'.kibana': {}}},\n",
       " u'.kibana_task_manager_1': {u'aliases': {u'.kibana_task_manager': {}}},\n",
       " u'montevideo': {u'aliases': {}}}"
      ]
     },
     "execution_count": 2,
     "metadata": {},
     "output_type": "execute_result"
    }
   ],
   "source": [
    "es.indices.get_alias(\"*\")"
   ]
  },
  {
   "cell_type": "code",
   "execution_count": 57,
   "metadata": {},
   "outputs": [],
   "source": [
    "from elasticsearch.client import IndicesClient\n",
    "ic = IndicesClient(es)"
   ]
  },
  {
   "cell_type": "code",
   "execution_count": 109,
   "metadata": {},
   "outputs": [],
   "source": [
    "text = 'Siento mucha tristeza al ver esto en Montevideo. Una persona compartió esta imagen que ocurrió hace minutos en la esquina de Salto y (Bernabé) Rivera. La cantidad de personas en situación de calle creció en la capital. Hay planes para mejorar esta realidad, pero duele verla.'"
   ]
  },
  {
   "cell_type": "code",
   "execution_count": 94,
   "metadata": {},
   "outputs": [],
   "source": [
    "text = 'Mucha basura suelta por Varela frente al Policial'"
   ]
  },
  {
   "cell_type": "code",
   "execution_count": 161,
   "metadata": {},
   "outputs": [],
   "source": [
    "text = 'En Montevideo podés ir a Porongos esquina Blandengues Upside-down face'"
   ]
  },
  {
   "cell_type": "code",
   "execution_count": 182,
   "metadata": {},
   "outputs": [],
   "source": [
    "text = '18 de Julio esquina Aquiles Lanza, Montevideo, Uruguay'"
   ]
  },
  {
   "cell_type": "code",
   "execution_count": 187,
   "metadata": {},
   "outputs": [],
   "source": [
    "text = 'Roban estación de servicio  esquina Montevideo shopping. Hace una semana robaron una joyería a 50 metros de esa estación de servicio. Lugar de mucho tránsito de personas y vehículos. Lleno de camaras de video vigilancia y PADO Man police officerDown pointing backhand index'"
   ]
  },
  {
   "cell_type": "code",
   "execution_count": 195,
   "metadata": {},
   "outputs": [],
   "source": [
    "text = 'En esta foto estas en que lugar de Europa, amorosa? Ésta estuvo en el cerro de montevideo, calle Venezuela esquina Bogotá....Jaaaa....sos una genia! Smiling face with open mouth and smiling eyes'"
   ]
  },
  {
   "cell_type": "code",
   "execution_count": 202,
   "metadata": {},
   "outputs": [],
   "source": [
    "text = 'Construction sign👷🏻‍| #MontevideoMejora Round pushpin Av. Italia de Gallinal a Bolivia, luce más amplia y linda Bus Un carril más para el bus Splashing sweat symbol Mejor captación de aguas pluviales 🅿 Refugios Bicycle Bicisenda Electric light bulb 40 nuevas columnas de alumbrado y 80 luminarias LED Más info: Mobile phone with rightwards arrow at left http://bit.ly/3bbb3jA'"
   ]
  },
  {
   "cell_type": "code",
   "execution_count": 216,
   "metadata": {},
   "outputs": [],
   "source": [
    "text = '@quejasyaEn la esquina de Montevideo Shopping hay una \"montaña\" de basura (Galarza y Tiburcio Gómez)'"
   ]
  },
  {
   "cell_type": "code",
   "execution_count": 219,
   "metadata": {},
   "outputs": [],
   "source": [
    "text = 'Cheering megaphone Modificación de paradas para líneas 147 y 148 hacia afuera Calendar Desde el 5 de marzo Cross mark Se suprime la parada de Paysandú esquina Tristán Narvaja Hourglass Funciona provisoriamente en Tristán Narvaja esquina Cerro Largo'"
   ]
  },
  {
   "cell_type": "code",
   "execution_count": 230,
   "metadata": {},
   "outputs": [],
   "source": [
    "text = 'Un hecho histórico en la Medicina Mundial. Ciudad de Montevideo. Esquina de Colonia y Arenal Grande. CASMU 1'"
   ]
  },
  {
   "cell_type": "code",
   "execution_count": 233,
   "metadata": {},
   "outputs": [],
   "source": [
    "text = 'Cno. de las Tropas esquina Verdún'"
   ]
  },
  {
   "cell_type": "code",
   "execution_count": 236,
   "metadata": {},
   "outputs": [],
   "source": [
    "text = '¡Hola! Para este tipo de errores en el registro debes acudir a nuestra oficina, allí te darán la información y la ayuda necesaria para corregir este error y completar tu proceso. Recuerda que nuestra oficina está ubicada en Montevideo, José Ellauri 938, esquina Benito Lamas. 🚴🏽Sparkling heart'"
   ]
  },
  {
   "cell_type": "code",
   "execution_count": 239,
   "metadata": {},
   "outputs": [],
   "source": [
    "text = '🚧❌ | MEDIA CALZADA 📍 26 DE MARZO entre L.A. de Herrera y Marco Bruto 🕖 De 7 a 16 h  📍 JOSÉ ELLAURI esquina Leyenda Patria 🕖 De 7 a 17 h  📍 LAGUNILLAS esquina Joaquín Núñez 🕖 De 8 a 18 h  📍 8 DE OCTUBRE desde 18 de Julio hasta Colonia 🕖 De 8 a 18 h'"
   ]
  },
  {
   "cell_type": "code",
   "execution_count": 245,
   "metadata": {},
   "outputs": [],
   "source": [
    "text = 'Speaker with three sound waves “Durazno y Convención” es una canción de 1984, que hoy es un tema que se puede escuchar mismo en la esquina sobre la que habla la letraRound pushpin  Ya que es un punto de Montevideo Sonoro Mobile phone Headphone'"
   ]
  },
  {
   "cell_type": "code",
   "execution_count": 248,
   "metadata": {},
   "outputs": [],
   "source": [
    "text = 'En la ciudad de Montevideo, hace ya bastante tiempo, están dibujados los hongos de Super Mario Bros. En avenida Uruguay esquina Arenal Grande, está dibujado un hongo rojo. En avenida San Martín esquina Libres, está dibujado un hongo verde. Smiling face with heart-shaped eyes'"
   ]
  },
  {
   "cell_type": "code",
   "execution_count": 251,
   "metadata": {},
   "outputs": [],
   "source": [
    "text = 'Alquiler anual. Centro de Montevideo 1 dormitorio $19.000 Héctor Gutiérrez Ruiz esquina San José Coordine visitas al 094283539 Llamadas o wsp'"
   ]
  },
  {
   "cell_type": "code",
   "execution_count": 254,
   "metadata": {},
   "outputs": [],
   "source": [
    "text = '¿Sos marica que usás vestido? Utilizando ésta frase tres efectivos de la Guardia Republicana apalearon a Joel, artista callejero que trabaja habitualmente en Millán y Garzón.'"
   ]
  },
  {
   "cell_type": "code",
   "execution_count": 255,
   "metadata": {},
   "outputs": [
    {
     "name": "stdout",
     "output_type": "stream",
     "text": [
      "sos\n",
      "marica\n",
      "usas\n",
      "vestido\n",
      "utilizando\n",
      "frase\n",
      "tres\n",
      "efectivos\n",
      "guardia\n",
      "republicana\n",
      "apalearon\n",
      "joel\n",
      "artista\n",
      "callejero\n",
      "trabaja\n",
      "habitualmente\n",
      "millan\n",
      "garzon\n"
     ]
    }
   ],
   "source": [
    "results = ic.analyze(index=\"montevideo\", body=\n",
    "{\n",
    "  \"text\": text, \n",
    "    \"analyzer\":\"calle_analyzer\"\n",
    "})\n",
    "for result in results['tokens']:\n",
    "    print(result['token'])"
   ]
  },
  {
   "cell_type": "code",
   "execution_count": 242,
   "metadata": {},
   "outputs": [],
   "source": [
    "#@timing\n",
    "def search(text):\n",
    "    return es.search(index=\"montevideo\", body=\n",
    "        {\n",
    "            \"from\" : 0, \"size\" : 500,\n",
    "              \"query\": {\n",
    "                \"simple_query_string\" : {\n",
    "                    \"query\": text,\n",
    "                    \"analyzer\": \"calle_analyzer\"\n",
    "                }\n",
    "              }\n",
    "        })['hits']['hits']"
   ]
  },
  {
   "cell_type": "code",
   "execution_count": 212,
   "metadata": {},
   "outputs": [],
   "source": [
    "#@timing\n",
    "def search_geo(id):\n",
    "    return es.search(index=\"montevideo\", body=\n",
    "    {\n",
    "        \"from\" : 0, \"size\" : 100,\n",
    "        \"query\" : {\n",
    "            \"bool\": {\n",
    "                \"filter\": {\n",
    "                    \"geo_shape\": {\n",
    "                        \"geometry\": {\n",
    "                            \"indexed_shape\": {\n",
    "                                \"index\": \"montevideo\",\n",
    "                                \"id\": id,\n",
    "                                \"path\": \"geometry\"\n",
    "                            }\n",
    "                        }\n",
    "                    }\n",
    "                }\n",
    "            }\n",
    "        }\n",
    "    })['hits']['hits']"
   ]
  },
  {
   "cell_type": "code",
   "execution_count": 261,
   "metadata": {},
   "outputs": [],
   "source": [
    "def getMatchName(result_obj_1,result_obj_b):\n",
    "    both_names = result_obj_1['name'] + result_obj_2['name']\n",
    "    both_names = both_names.replace(' ','_')\n",
    "    return both_names.lower()"
   ]
  },
  {
   "cell_type": "code",
   "execution_count": 278,
   "metadata": {},
   "outputs": [],
   "source": [
    "def matchedObject(match_dict,result_object):\n",
    "    matched_ids = [obj['id'] in pair_list for pair_list in match_dict.values()]\n",
    "    return result_object['id'] in matched_ids"
   ]
  },
  {
   "cell_type": "code",
   "execution_count": 280,
   "metadata": {},
   "outputs": [],
   "source": [
    "def tryToMatchLines(match_dict,line_results,all_results):\n",
    "    for key, res_obj in line_results.items():\n",
    "        if matchedObject(match_dict, res_obj):\n",
    "            #If there is alredy a match that involves this name continue\n",
    "            continue\n",
    "        for geo_result in search_geo(res_obj['id']):\n",
    "            #Im looking for results that Intersects with the current object\n",
    "            geo_obj = getResultObject(geo_result)\n",
    "            if geo_obj['name'] != geo_obj['name']:\n",
    "                #I only need to care for different objects, matching names and not ids.\n",
    "                #In case of streets more than one block can intersect with the next one, same name diff id.\n",
    "                if geo_obj['id'] in all_results.keys():\n",
    "                    #I only care for those objects intersecting current object AND where part of the original results.\n",
    "                    match_name = getMatchName(res_obj['name'],geo_obj['name'])\n",
    "                    match_dict[match_name] = [res_obj,geo_obj]\n",
    "                    print ('MATCH: {}\\t/\\t{}'.format(match_name,res_obj['score']+geo_obj['score']))"
   ]
  },
  {
   "cell_type": "code",
   "execution_count": 260,
   "metadata": {},
   "outputs": [],
   "source": [
    "def getResultObject(result):\n",
    "    result_geo_type = result['_source']['geometry']['type']\n",
    "    result_id = result['_id']\n",
    "    result_score = result['_score']\n",
    "    result_geometry = result['_source']['geometry']\n",
    "    result_name = 'NO_NAME'\n",
    "    if result['_source'].get('nombre', None):\n",
    "            result_name = result['_source']['nombre'].encode('ascii', 'ignore').decode('ascii')\n",
    "    elif result['_source'].get('aliases',None):\n",
    "            result_name = result['_source']['aliases'].encode('ascii', 'ignore').decode('ascii')\n",
    "    return {'id':result_id,'geo_type':result_geo_type,'name':result_name,'score':result_score,'geometry':result_geometry}"
   ]
  },
  {
   "cell_type": "code",
   "execution_count": 268,
   "metadata": {},
   "outputs": [],
   "source": [
    "@timing\n",
    "def complete_search(text):  \n",
    "    match_dict = {}\n",
    "    \n",
    "    line_results = {}\n",
    "    point_results = {}\n",
    "    polygon_results = {}\n",
    "    all_results = {}\n",
    "\n",
    "    results = search(text)\n",
    "    for result in results:\n",
    "        result_object = getResultObject(result)\n",
    "        if result_object['geo_type'] == 'LineString':\n",
    "            line_results[result_object['id']] = result_object\n",
    "        elif result_object['geo_type'] == 'Point':   \n",
    "            point_results[result_object['id']] = result_object\n",
    "        elif result_object['geo_type'] == 'Polygon':\n",
    "            polygon_results[result_object['id']] = result_object\n",
    "        else:\n",
    "            print('Do i have other?')\n",
    "        \n",
    "    all_results.update(line_results)\n",
    "    all_results.update(point_results)\n",
    "    all_results.update(polygon_results)\n",
    "    \n",
    "    tryToMatchLines(match_dict,line_results,all_results)\n",
    "    \n",
    "    return match_dict"
   ]
  },
  {
   "cell_type": "code",
   "execution_count": 281,
   "metadata": {},
   "outputs": [
    {
     "name": "stdout",
     "output_type": "stream",
     "text": [
      "([], u'v_mdg_vias-15765686')\n",
      "([], u'v_mdg_vias-15765685')\n",
      "([], u'v_mdg_vias-15765683')\n",
      "([], u'v_mdg_vias-18137102')\n",
      "([], u'v_mdg_vias-6616127')\n",
      "([], u'v_mdg_vias-299676')\n",
      "([], u'v_mdg_vias-6615000')\n",
      "([], u'v_mdg_vias-6615001')\n",
      "([], u'v_mdg_vias-18056887')\n",
      "([], u'v_mdg_vias-6615199')\n",
      "([], u'v_mdg_vias-296601')\n",
      "([], u'v_mdg_vias-6615949')\n",
      "([], u'v_mdg_vias-279855')\n",
      "([], u'v_mdg_vias-18055219')\n",
      "([], u'v_mdg_vias-18055216')\n",
      "([], u'v_mdg_vias-18136980')\n",
      "([], u'v_mdg_vias-18055173')\n",
      "([], u'v_mdg_vias-18055758')\n",
      "([], u'v_mdg_vias-6614998')\n",
      "([], u'v_mdg_vias-18215139')\n",
      "([], u'v_mdg_vias-6615531')\n",
      "([], u'v_mdg_vias-18055487')\n",
      "([], u'v_mdg_vias-6869153')\n",
      "([], u'v_mdg_vias-18054926')\n",
      "([], u'v_mdg_vias-15463113')\n",
      "([], u'v_mdg_vias-5839258')\n",
      "([], u'v_mdg_vias-18215142')\n",
      "([], u'v_mdg_vias-15389414')\n",
      "([], u'v_mdg_vias-15389415')\n",
      "([], u'v_mdg_vias-18137147')\n",
      "([], u'v_mdg_vias-282268')\n",
      "([], u'v_mdg_vias-4354403')\n",
      "([], u'v_mdg_vias-6615548')\n",
      "([], u'v_mdg_vias-7364323')\n",
      "([], u'v_mdg_vias-296416')\n",
      "([], u'v_mdg_vias-18299605')\n",
      "([], u'v_mdg_vias-5144804')\n",
      "([], u'v_mdg_vias-6613214')\n",
      "([], u'v_mdg_vias-15464760')\n",
      "([], u'v_mdg_vias-18216646')\n",
      "([], u'v_mdg_vias-18054813')\n",
      "([], u'v_mdg_vias-6615573')\n",
      "([], u'v_mdg_vias-6615575')\n",
      "([], u'v_mdg_vias-18055716')\n",
      "([], u'v_mdg_vias-18055717')\n",
      "([], u'v_mdg_vias-18055714')\n",
      "([], u'v_mdg_vias-18055715')\n",
      "([], u'v_mdg_vias-4353044')\n",
      "([], u'v_mdg_vias-18055789')\n",
      "([], u'v_mdg_vias-6615904')\n",
      "([], u'v_mdg_vias-6615907')\n",
      "([], u'v_mdg_vias-18215133')\n",
      "([], u'v_mdg_vias-18215136')\n",
      "([], u'v_mdg_vias-18215137')\n",
      "([], u'v_mdg_vias-18055781')\n",
      "([], u'v_mdg_vias-18055780')\n",
      "([], u'v_mdg_vias-18055783')\n",
      "([], u'v_mdg_vias-18055787')\n",
      "([], u'v_mdg_vias-18055786')\n",
      "([], u'v_mdg_vias-6615371')\n",
      "([], u'v_mdg_vias-6615376')\n",
      "([], u'v_mdg_vias-6615374')\n",
      "([], u'v_mdg_vias-18139219')\n",
      "([], u'v_mdg_vias-18055763')\n",
      "([], u'v_mdg_vias-18215130')\n",
      "([], u'v_mdg_vias-18055764')\n",
      "([], u'v_mdg_vias-18140800')\n",
      "([], u'v_mdg_vias-18054961')\n",
      "([], u'v_mdg_vias-18140569')\n",
      "([], u'v_mdg_vias-18140564')\n",
      "([], u'v_mdg_vias-18140565')\n",
      "([], u'v_mdg_vias-18140567')\n",
      "([], u'v_mdg_vias-18056967')\n",
      "([], u'v_mdg_vias-15463164')\n",
      "([], u'v_mdg_vias-6615597')\n",
      "([], u'v_mdg_vias-15463163')\n",
      "([], u'v_mdg_vias-18137210')\n",
      "([], u'v_mdg_vias-18137211')\n",
      "([], u'v_mdg_vias-18137212')\n",
      "([], u'v_mdg_vias-6615599')\n",
      "([], u'v_mdg_vias-6615456')\n",
      "([], u'v_mdg_vias-6615454')\n",
      "([], u'v_mdg_vias-15389513')\n",
      "([], u'v_mdg_vias-6615753')\n",
      "([], u'v_mdg_vias-15389515')\n",
      "([], u'v_mdg_vias-15389514')\n",
      "([], u'v_mdg_vias-6615756')\n",
      "([], u'v_mdg_vias-18137626')\n",
      "([], u'v_mdg_vias-18137629')\n",
      "([], u'v_mdg_vias-6615759')\n",
      "([], u'v_mdg_vias-15765018')\n",
      "([], u'v_mdg_vias-7084101')\n",
      "([], u'v_mdg_vias-15765019')\n",
      "([], u'v_mdg_vias-18055788')\n",
      "([], u'v_mdg_vias-6615627')\n",
      "([], u'v_mdg_vias-15389461')\n",
      "([], u'v_mdg_vias-15389460')\n",
      "([], u'v_mdg_vias-296067')\n",
      "([], u'v_mdg_vias-6615629')\n",
      "([], u'v_mdg_vias-7084022')\n",
      "([], u'v_mdg_vias-7084026')\n",
      "([], u'v_mdg_vias-7084025')\n",
      "([], u'v_mdg_vias-7084024')\n",
      "([], u'v_mdg_vias-296182')\n",
      "([], u'v_mdg_vias-11692607')\n",
      "([], u'v_mdg_vias-4375994')\n",
      "([], u'v_mdg_vias-6615974')\n",
      "([], u'v_mdg_vias-11692608')\n",
      "([], u'v_mdg_vias-298411')\n",
      "([], u'v_mdg_vias-15464759')\n",
      "([], u'v_mdg_vias-15464758')\n",
      "([], u'v_mdg_vias-15464757')\n",
      "([], u'v_mdg_vias-6615529')\n",
      "([], u'v_mdg_vias-282368')\n",
      "([], u'v_mdg_vias-18140735')\n",
      "([], u'v_mdg_vias-18140737')\n",
      "([], u'v_mdg_vias-18140731')\n",
      "([], u'v_mdg_vias-18140733')\n",
      "([], u'v_mdg_vias-18137551')\n",
      "([], u'v_mdg_vias-6623083')\n",
      "([], u'v_mdg_vias-291717')\n",
      "([], u'v_mdg_vias-18055433')\n",
      "([], u'v_mdg_vias-299327')\n",
      "([], u'v_mdg_vias-15389499')\n",
      "([], u'v_mdg_vias-15389799')\n",
      "([], u'v_mdg_vias-15389797')\n",
      "([], u'v_mdg_vias-18054955')\n",
      "([], u'v_mdg_vias-15389794')\n",
      "([], u'v_mdg_vias-18137254')\n",
      "([], u'v_mdg_vias-15463123')\n",
      "([], u'v_mdg_vias-15463126')\n",
      "([], u'v_mdg_vias-18299578')\n",
      "([], u'v_mdg_vias-18299579')\n",
      "([], u'v_mdg_vias-6511438')\n",
      "([], u'v_mdg_vias-289904')\n",
      "([], u'v_mdg_vias-12388309')\n",
      "([], u'v_mdg_vias-15462936')\n",
      "([], u'v_mdg_vias-15462932')\n",
      "([], u'v_mdg_vias-7358980')\n",
      "([], u'v_mdg_vias-15389389')\n",
      "([], u'v_mdg_vias-15389384')\n",
      "([], u'v_mdg_vias-18139299')\n",
      "([], u'v_mdg_vias-18139296')\n",
      "([], u'v_mdg_vias-18139294')\n",
      "([], u'v_mdg_vias-18139290')\n",
      "([], u'v_mdg_vias-4353045')\n",
      "([], u'v_mdg_vias-6142666')\n",
      "([], u'v_mdg_vias-12388311')\n",
      "([], u'v_mdg_vias-297262')\n",
      "([], u'v_mdg_vias-15463090')\n",
      "([], u'v_mdg_vias-15389724')\n",
      "([], u'v_mdg_vias-6615564')\n",
      "([], u'v_mdg_vias-15389834')\n",
      "([], u'v_mdg_vias-18137479')\n",
      "([], u'v_mdg_vias-6615982')\n",
      "([], u'v_mdg_vias-18055651')\n",
      "([], u'v_mdg_vias-18055799')\n",
      "([], u'v_mdg_vias-6615935')\n",
      "([], u'v_mdg_vias-18055790')\n",
      "([], u'v_mdg_vias-18055791')\n",
      "([], u'v_mdg_vias-6615369')\n",
      "([], u'v_mdg_vias-6615566')\n",
      "([], u'v_mdg_vias-18055776')\n",
      "([], u'v_mdg_vias-18055778')\n",
      "([], u'v_mdg_vias-18055475')\n",
      "([], u'v_mdg_vias-18055474')\n",
      "([], u'v_mdg_vias-7358979')\n",
      "([], u'v_mdg_vias-6615894')\n",
      "([], u'v_mdg_vias-6870721')\n",
      "([], u'v_mdg_vias-18055483')\n",
      "([], u'v_mdg_vias-18139275')\n",
      "([], u'v_mdg_vias-6615510')\n",
      "([], u'v_mdg_vias-18140792')\n",
      "([], u'v_mdg_vias-18140795')\n",
      "([], u'v_mdg_vias-18140798')\n",
      "([], u'v_mdg_vias-18137909')\n",
      "([], u'v_mdg_vias-18137903')\n",
      "([], u'v_mdg_vias-18137905')\n",
      "([], u'v_mdg_vias-18137907')\n",
      "([], u'v_mdg_vias-18215124')\n",
      "([], u'v_mdg_vias-15463176')\n",
      "([], u'v_mdg_vias-298577')\n",
      "([], u'v_mdg_vias-15463175')\n",
      "([], u'v_mdg_vias-6616039')\n",
      "([], u'v_mdg_vias-6616037')\n",
      "([], u'v_mdg_vias-6615919')\n",
      "([], u'v_mdg_vias-299950')\n",
      "([], u'v_mdg_vias-18299611')\n",
      "([], u'v_mdg_vias-18299610')\n",
      "([], u'v_mdg_vias-18299612')\n",
      "([], u'v_mdg_vias-6615735')\n",
      "([], u'v_mdg_vias-15462971')\n",
      "([], u'v_mdg_vias-15462973')\n",
      "([], u'v_mdg_vias-298315')\n",
      "([], u'v_mdg_vias-15462975')\n",
      "([], u'v_mdg_vias-299220')\n",
      "([], u'v_mdg_vias-6615326')\n",
      "([], u'v_mdg_vias-6615320')\n",
      "([], u'v_mdg_vias-6615323')\n",
      "([], u'v_mdg_vias-18058280')\n",
      "([], u'v_mdg_vias-6615328')\n",
      "([], u'v_mdg_vias-6870896')\n",
      "([], u'v_mdg_vias-6870897')\n",
      "([], u'v_mdg_vias-15389872')\n",
      "([], u'v_mdg_vias-290387')\n",
      "([], u'v_mdg_vias-18215141')\n",
      "([], u'v_mdg_vias-15389875')\n",
      "([], u'v_mdg_vias-6615557')\n",
      "([], u'v_mdg_vias-15389715')\n",
      "([], u'v_mdg_vias-18137213')\n",
      "([], u'v_mdg_vias-6615550')\n",
      "([], u'v_mdg_vias-6615994')\n",
      "([], u'v_mdg_vias-6615995')\n",
      "([], u'v_mdg_vias-6615992')\n",
      "([], u'v_mdg_vias-6615993')\n",
      "([], u'v_mdg_vias-6615991')\n",
      "([], u'v_mdg_vias-5151887')\n",
      "([], u'v_mdg_vias-18058354')\n",
      "([], u'v_mdg_vias-6615961')\n",
      "([], u'v_mdg_vias-18058353')\n",
      "([], u'v_mdg_vias-18058352')\n",
      "([], u'v_mdg_vias-6615393')\n",
      "([], u'v_mdg_vias-18137014')\n",
      "([], u'v_mdg_vias-289268')\n",
      "([], u'v_mdg_vias-6616545')\n",
      "([], u'v_mdg_vias-18055424')\n",
      "([], u'v_mdg_vias-18137627')\n",
      "([], u'v_mdg_vias-18055426')\n",
      "([], u'v_mdg_vias-6615757')\n",
      "([], u'v_mdg_vias-15389519')\n",
      "([], u'v_mdg_vias-6615193')\n",
      "([], u'v_mdg_vias-18137628')\n",
      "([], u'v_mdg_vias-18140594')\n",
      "([], u'v_mdg_vias-18140590')\n",
      "([], u'v_mdg_vias-18140592')\n",
      "([], u'v_mdg_vias-6830645')\n",
      "([], u'v_mdg_vias-15389784')\n",
      "([], u'v_mdg_vias-15389787')\n",
      "([], u'v_mdg_vias-6142667')\n",
      "([], u'v_mdg_vias-290050')\n",
      "([], u'v_mdg_vias-15389629')\n",
      "([], u'v_mdg_vias-15463135')\n",
      "([], u'v_mdg_vias-15463131')\n",
      "([], u'v_mdg_vias-15389627')\n",
      "([], u'v_mdg_vias-18140663')\n",
      "([], u'v_mdg_vias-282162')\n",
      "([], u'v_mdg_vias-15463143')\n",
      "([], u'v_mdg_vias-6615473')\n",
      "([], u'v_mdg_vias-6615475')\n",
      "([], u'v_mdg_vias-15389539')\n",
      "([], u'v_mdg_vias-5154162')\n",
      "([], u'v_mdg_vias-15389435')\n",
      "([], u'v_mdg_vias-18137160')\n",
      "([], u'v_mdg_vias-15389587')\n",
      "([], u'v_mdg_vias-295069')\n",
      "([], u'v_mdg_vias-18139341')\n",
      "([], u'v_mdg_vias-7364341')\n",
      "([], u'v_mdg_vias-7364342')\n",
      "([], u'v_mdg_vias-18055088')\n",
      "([], u'v_mdg_vias-18055089')\n",
      "([], u'v_mdg_vias-12388308')\n",
      "([], u'v_mdg_vias-6615603')\n",
      "([], u'v_mdg_vias-6615607')\n",
      "([], u'v_mdg_vias-6615605')\n",
      "([], u'v_mdg_vias-6868107')\n",
      "([], u'v_mdg_vias-289322')\n",
      "([], u'v_mdg_vias-289737')\n",
      "([], u'v_mdg_vias-291743')\n",
      "([], u'v_mdg_vias-4353100')\n",
      "([], u'v_mdg_vias-6615951')\n",
      "([], u'v_mdg_vias-15389711')\n",
      "([], u'v_mdg_vias-18055902')\n",
      "([], u'v_mdg_vias-6615921')\n",
      "([], u'v_mdg_vias-15389663')\n",
      "([], u'v_mdg_vias-15389662')\n",
      "([], u'v_mdg_vias-296264')\n",
      "([], u'v_mdg_vias-18136995')\n",
      "([], u'v_mdg_vias-18136996')\n",
      "([], u'v_mdg_vias-15389585')\n",
      "([], u'v_mdg_vias-15389583')\n",
      "([], u'v_mdg_vias-6870732')\n",
      "([], u'v_mdg_vias-6615559')\n",
      "([], u'v_mdg_vias-296342')\n",
      "([], u'v_mdg_vias-6615508')\n",
      "([], u'v_mdg_vias-15389744')\n",
      "([], u'v_mdg_vias-18137343')\n",
      "([], u'v_mdg_vias-18137029')\n",
      "([], u'v_mdg_vias-6614996')\n",
      "([], u'v_mdg_vias-7376180')\n",
      "([], u'v_mdg_vias-6616021')\n",
      "([], u'v_mdg_vias-18055514')\n",
      "([], u'v_mdg_vias-18140623')\n",
      "([], u'v_mdg_vias-18140622')\n",
      "([], u'v_mdg_vias-18140544')\n",
      "([], u'v_mdg_vias-15463061')\n",
      "([], u'v_mdg_vias-18137481')\n",
      "([], u'v_mdg_vias-18137480')\n",
      "([], u'v_mdg_vias-15463067')\n",
      "([], u'v_mdg_vias-15389833')\n",
      "([], u'v_mdg_vias-5861345')\n",
      "([], u'v_mdg_vias-5861341')\n",
      "([], u'v_mdg_vias-6615157')\n",
      "([], u'v_mdg_vias-6870585')\n",
      "([], u'v_mdg_vias-282058')\n",
      "([], u'v_mdg_vias-18137806')\n",
      "([], u'v_mdg_vias-4376322')\n",
      "([], u'v_mdg_vias-18299606')\n"
     ]
    },
    {
     "name": "stdout",
     "output_type": "stream",
     "text": [
      "([], u'v_mdg_vias-6615723')\n",
      "([], u'v_mdg_vias-5144803')\n",
      "([], u'v_mdg_vias-6615725')\n",
      "([], u'v_mdg_vias-15462969')\n",
      "([], u'v_mdg_vias-15462967')\n",
      "([], u'v_mdg_vias-15462965')\n",
      "([], u'v_mdg_vias-15389402')\n",
      "([], u'v_mdg_vias-18299609')\n",
      "([], u'v_mdg_vias-15389746')\n",
      "([], u'v_mdg_vias-15765021')\n",
      "([], u'v_mdg_vias-15765020')\n",
      "([], u'v_mdg_vias-6615178')\n",
      "([], u'v_mdg_vias-6615318')\n",
      "([], u'v_mdg_vias-289588')\n",
      "([], u'v_mdg_vias-6616166')\n",
      "([], u'v_mdg_vias-6616167')\n",
      "([], u'v_mdg_vias-6616165')\n",
      "([], u'v_mdg_vias-6623081')\n",
      "([], u'v_mdg_vias-6616168')\n",
      "([], u'v_mdg_vias-18054804')\n",
      "([], u'v_mdg_vias-15389706')\n",
      "([], u'v_mdg_vias-6615981')\n",
      "([], u'v_mdg_vias-6615980')\n",
      "([], u'v_mdg_vias-296429')\n",
      "([], u'v_mdg_vias-6870675')\n",
      "([], u'v_mdg_vias-18054797')\n",
      "([], u'v_mdg_vias-6870673')\n",
      "([], u'v_mdg_vias-5150750')\n",
      "([], u'v_mdg_vias-18058348')\n",
      "([], u'v_mdg_vias-18054893')\n",
      "([], u'v_mdg_vias-289450')\n",
      "([], u'v_mdg_vias-18215129')\n",
      "([], u'v_mdg_vias-18058346')\n",
      "([], u'v_mdg_vias-18058347')\n",
      "([], u'v_mdg_vias-6615918')\n",
      "([], u'v_mdg_vias-18058345')\n",
      "([], u'v_mdg_vias-6615387')\n",
      "([], u'v_mdg_vias-6615386')\n",
      "([], u'v_mdg_vias-6615385')\n",
      "([], u'v_mdg_vias-6615384')\n",
      "([], u'v_mdg_vias-6615382')\n",
      "([], u'v_mdg_vias-6615380')\n",
      "([], u'v_mdg_vias-291732')\n",
      "([], u'v_mdg_vias-18137686')\n",
      "([], u'v_mdg_vias-6869110')\n",
      "([], u'v_mdg_vias-18055550')\n",
      "([], u'v_mdg_vias-18055552')\n",
      "([], u'v_mdg_vias-6615184')\n",
      "([], u'v_mdg_vias-6615186')\n",
      "([], u'v_mdg_vias-6615181')\n",
      "([], u'v_mdg_vias-6615180')\n",
      "([], u'v_mdg_vias-295910')\n",
      "([], u'v_mdg_vias-6615937')\n",
      "([], u'v_mdg_vias-15389431')\n",
      "([], u'v_mdg_vias-282334')\n",
      "([], u'v_mdg_vias-18056979')\n",
      "([], u'v_mdg_vias-15463065')\n",
      "([], u'v_mdg_vias-5154178')\n",
      "([], u'v_mdg_vias-15463155')\n",
      "([], u'v_mdg_vias-15389524')\n",
      "([], u'v_mdg_vias-15389526')\n",
      "([], u'v_mdg_vias-18137482')\n",
      "complete_search function took 1248.311 ms\n"
     ]
    },
    {
     "data": {
      "text/plain": [
       "{}"
      ]
     },
     "execution_count": 281,
     "metadata": {},
     "output_type": "execute_result"
    }
   ],
   "source": [
    "complete_search(text)"
   ]
  },
  {
   "cell_type": "code",
   "execution_count": 215,
   "metadata": {},
   "outputs": [
    {
     "data": {
      "text/plain": [
       "[]"
      ]
     },
     "execution_count": 215,
     "metadata": {},
     "output_type": "execute_result"
    }
   ],
   "source": [
    "matchs"
   ]
  },
  {
   "cell_type": "code",
   "execution_count": 98,
   "metadata": {},
   "outputs": [
    {
     "name": "stdout",
     "output_type": "stream",
     "text": [
      "(6.5457935, u'v_mdg_vias-287716', u'v_mdg_vias', u'FLORENCIO VARELA', u'LineString')\n",
      "(6.5457935, u'v_mdg_vias-7084344', u'v_mdg_vias', u'WENCESLAO VARELA', u'LineString')\n",
      "(6.5457935, u'v_mdg_vias-6433252', u'v_mdg_vias', u'FLORENCIO VARELA', u'LineString')\n",
      "(6.5457935, u'v_mdg_vias-6433297', u'v_mdg_vias', u'FLORENCIO VARELA', u'LineString')\n",
      "(6.5457935, u'v_mdg_vias-287853', u'v_mdg_vias', u'FLORENCIO VARELA', u'LineString')\n",
      "(6.527852, u'geonames_uy_montevideo-7211405', u'geonames_uy_montevideo', u'Hospital Policial Inspector General Uruguay Genta', u'Point')\n",
      "(5.572977, u'v_mdg_vias-7362536', u'v_mdg_vias', u'JUAN CRUZ VARELA', u'LineString')\n",
      "(5.572977, u'v_mdg_vias-7595328', u'v_mdg_vias', u'AV JACOBO VARELA', u'LineString')\n",
      "(5.572977, u'v_mdg_vias-7595334', u'v_mdg_vias', u'AV JACOBO VARELA', u'LineString')\n",
      "(5.572977, u'v_mdg_vias-6373779', u'v_mdg_vias', u'AV JACOBO VARELA', u'LineString')\n",
      "(5.572977, u'v_mdg_vias-295791', u'v_mdg_vias', u'JUAN CRUZ VARELA', u'LineString')\n",
      "(5.572977, u'v_mdg_vias-5158371', u'v_mdg_vias', u'AV JACOBO VARELA', u'LineString')\n",
      "(5.572977, u'v_mdg_vias-5167672', u'v_mdg_vias', u'AV JACOBO VARELA', u'LineString')\n",
      "(5.572977, u'v_mdg_vias-5167673', u'v_mdg_vias', u'AV JACOBO VARELA', u'LineString')\n",
      "(5.572977, u'v_mdg_vias-5167704', u'v_mdg_vias', u'AV JACOBO VARELA', u'LineString')\n",
      "(5.572977, u'v_mdg_vias-5167705', u'v_mdg_vias', u'AV JACOBO VARELA', u'LineString')\n",
      "(5.572977, u'v_mdg_vias-5167706', u'v_mdg_vias', u'AV JACOBO VARELA', u'LineString')\n",
      "(5.572977, u'v_mdg_vias-5167710', u'v_mdg_vias', u'AV JACOBO VARELA', u'LineString')\n",
      "(5.572977, u'v_mdg_vias-5167724', u'v_mdg_vias', u'AV JACOBO VARELA', u'LineString')\n",
      "(5.572977, u'v_mdg_vias-5170867', u'v_mdg_vias', u'AV JACOBO VARELA', u'LineString')\n",
      "(5.572977, u'v_mdg_vias-5170870', u'v_mdg_vias', u'AV JACOBO VARELA', u'LineString')\n",
      "(5.572977, u'v_mdg_vias-5170871', u'v_mdg_vias', u'AV JACOBO VARELA', u'LineString')\n",
      "(5.572977, u'v_mdg_vias-5170877', u'v_mdg_vias', u'AV JACOBO VARELA', u'LineString')\n",
      "(5.572977, u'v_mdg_vias-5170878', u'v_mdg_vias', u'AV JACOBO VARELA', u'LineString')\n",
      "(5.572977, u'v_mdg_vias-5170882', u'v_mdg_vias', u'AV JACOBO VARELA', u'LineString')\n",
      "(5.572977, u'v_mdg_vias-5170886', u'v_mdg_vias', u'AV JACOBO VARELA', u'LineString')\n",
      "(5.572977, u'v_mdg_vias-302728', u'v_mdg_vias', u'AV JACOBO VARELA', u'LineString')\n",
      "(5.572977, u'v_mdg_vias-302731', u'v_mdg_vias', u'AV JACOBO VARELA', u'LineString')\n",
      "(5.572977, u'v_mdg_vias-302734', u'v_mdg_vias', u'AV JACOBO VARELA', u'LineString')\n",
      "(5.572977, u'v_mdg_vias-302735', u'v_mdg_vias', u'AV JACOBO VARELA', u'LineString')\n"
     ]
    }
   ],
   "source": [
    "results = es.search(index=\"montevideo\", body=\n",
    "{\n",
    "    \"from\" : 0, \"size\" : 30,\n",
    "    \"query\" : {\n",
    "        \"query_string\" : {\n",
    "            \"query\" : text,\n",
    "            \"analyzer\": \"calle_analyzer\"\n",
    "        }\n",
    "    }\n",
    "})\n",
    "for result in results['hits']['hits']:\n",
    "    print(result['_score'],result['_id'],result['_source']['type'],result['_source']['nombre'], result['_source']['geometry']['type'])"
   ]
  },
  {
   "cell_type": "code",
   "execution_count": 99,
   "metadata": {},
   "outputs": [
    {
     "name": "stdout",
     "output_type": "stream",
     "text": [
      "(0.0, u'v_mdg_vias-287716', u'v_mdg_vias', u'FLORENCIO VARELA', u'LineString')\n",
      "(0.0, u'v_mdg_vias-287824', u'v_mdg_vias', u'ANZANI', u'LineString')\n",
      "(0.0, u'limites_barrios-10', u'limites_barrios', u'PQUE BATLLE VILLA DOLORES', u'Polygon')\n"
     ]
    }
   ],
   "source": [
    "\n",
    "for result in results_2:\n"
   ]
  },
  {
   "cell_type": "code",
   "execution_count": null,
   "metadata": {},
   "outputs": [],
   "source": []
  }
 ],
 "metadata": {
  "kernelspec": {
   "display_name": "Python 2",
   "language": "python",
   "name": "python2"
  },
  "language_info": {
   "codemirror_mode": {
    "name": "ipython",
    "version": 2
   },
   "file_extension": ".py",
   "mimetype": "text/x-python",
   "name": "python",
   "nbconvert_exporter": "python",
   "pygments_lexer": "ipython2",
   "version": "2.7.13"
  }
 },
 "nbformat": 4,
 "nbformat_minor": 2
}
