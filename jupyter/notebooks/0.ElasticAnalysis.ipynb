{
 "cells": [
  {
   "cell_type": "code",
   "execution_count": null,
   "metadata": {},
   "outputs": [],
   "source": [
    "from lib import geoSearch\n",
    "import json"
   ]
  },
  {
   "cell_type": "code",
   "execution_count": null,
   "metadata": {},
   "outputs": [],
   "source": [
    "GS = geoSearch.GeoSearch(\"elasticsearch-geo\",9200)\n",
    "from shapely.geometry import mapping, shape"
   ]
  },
  {
   "cell_type": "code",
   "execution_count": null,
   "metadata": {},
   "outputs": [],
   "source": [
    "from elasticsearch import Elasticsearch\n",
    "es = Elasticsearch([{'host': 'elasticsearch-geo', 'port': 9200}])\n",
    "from elasticsearch.client import IndicesClient\n",
    "ic = IndicesClient(es)\n",
    "def analyzedText(text):\n",
    "    results = ic.analyze(index=\"montevideo\", body=\n",
    "    {\n",
    "      \"text\": text, \n",
    "        \"analyzer\":\"search_analyzer\"\n",
    "    })\n",
    "    return ' '.join([token['token'] for token in results['tokens']])"
   ]
  },
  {
   "cell_type": "code",
   "execution_count": null,
   "metadata": {},
   "outputs": [],
   "source": [
    "text = u\"bv artigas av italia\"\n",
    "analyzedText(text)"
   ]
  },
  {
   "cell_type": "code",
   "execution_count": null,
   "metadata": {
    "scrolled": false
   },
   "outputs": [],
   "source": [
    "matches = GS.complete_search(text,50)\n",
    "for nombre, match in matches[:4]:\n",
    "    if match:\n",
    "        shape_1 = shape(match['objects'][0]['geometry'])\n",
    "        print ('✔️ MATCH: {}\\t/\\t{}'.format(match['score'],nombre))\n",
    "print('\\n')"
   ]
  },
  {
   "cell_type": "code",
   "execution_count": null,
   "metadata": {},
   "outputs": [],
   "source": [
    "import pandas as pd\n",
    "test_set = pd.read_csv('test_complete.csv', index_col=0, encoding='utf-8')"
   ]
  },
  {
   "cell_type": "code",
   "execution_count": null,
   "metadata": {},
   "outputs": [],
   "source": [
    "test_set"
   ]
  },
  {
   "cell_type": "code",
   "execution_count": null,
   "metadata": {},
   "outputs": [],
   "source": [
    "for index, row in test_set.iterrows():\n",
    "    print(row.texto)\n",
    "    print(row['mejorMatch'], row['scoreMejorMatch'])\n",
    "    matches = GS.complete_search(row.texto,100)\n",
    "    for nombre, match in matches[:5]:\n",
    "        if match:\n",
    "            print ('✔️ MATCH: {}\\t/\\t{}'.format(nombre, match['score'],match['type']))\n",
    "    print('\\n')"
   ]
  },
  {
   "cell_type": "code",
   "execution_count": null,
   "metadata": {},
   "outputs": [],
   "source": [
    "GS.test_kit('test_complete.csv',1,1)"
   ]
  },
  {
   "cell_type": "code",
   "execution_count": null,
   "metadata": {},
   "outputs": [],
   "source": []
  },
  {
   "cell_type": "code",
   "execution_count": null,
   "metadata": {},
   "outputs": [],
   "source": []
  }
 ],
 "metadata": {
  "kernelspec": {
   "display_name": "Python 2",
   "language": "python",
   "name": "python2"
  },
  "language_info": {
   "codemirror_mode": {
    "name": "ipython",
    "version": 2
   },
   "file_extension": ".py",
   "mimetype": "text/x-python",
   "name": "python",
   "nbconvert_exporter": "python",
   "pygments_lexer": "ipython2",
   "version": "2.7.13"
  }
 },
 "nbformat": 4,
 "nbformat_minor": 2
}
