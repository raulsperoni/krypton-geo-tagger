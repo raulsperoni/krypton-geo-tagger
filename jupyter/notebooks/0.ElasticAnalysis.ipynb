{
 "cells": [
  {
   "cell_type": "code",
   "execution_count": 13,
   "metadata": {},
   "outputs": [],
   "source": [
    "from lib import geoSearch\n",
    "import json"
   ]
  },
  {
   "cell_type": "code",
   "execution_count": 16,
   "metadata": {},
   "outputs": [],
   "source": [
    "GS = geoSearch.GeoSearch()\n",
    "from shapely.geometry import mapping, shape"
   ]
  },
  {
   "cell_type": "code",
   "execution_count": 24,
   "metadata": {
    "scrolled": false
   },
   "outputs": [
    {
     "name": "stdout",
     "output_type": "stream",
     "text": [
      "{'type': 'Point', 'coordinates': (-56.18161844995608, -34.90405170651783)}\n",
      "✔️ MATCH: 301.062796972\t/\tav-18-de-julio|carlos-roxlo\n",
      "{\"type\": \"Point\", \"coordinates\": [-56.14845, -34.90769]}\n",
      "{\"type\": \"Point\", \"coordinates\": [-56.19123, -34.90585]}\n",
      "\n",
      "\n"
     ]
    }
   ],
   "source": [
    "text = \"18 y roxlo\"\n",
    "matches = GS.complete_search(text)\n",
    "for nombre, match in matches[:4]:\n",
    "    if match and len(match['objects']) == 1:\n",
    "        shape_1 = shape(match['objects'][0]['geometry'])\n",
    "        print(json.dumps(mapping(shape_1.representative_point())))\n",
    "    elif match and len(match['objects']) > 1:\n",
    "        shape_1 = shape(match['objects'][0]['geometry'])\n",
    "        shape_2 = shape(match['objects'][1]['geometry'])\n",
    "        print mapping(shape_1.intersection(shape_2).representative_point())\n",
    "        print ('✔️ MATCH: {}\\t/\\t{}'.format(match['score'],nombre))\n",
    "print('\\n')"
   ]
  },
  {
   "cell_type": "code",
   "execution_count": 21,
   "metadata": {},
   "outputs": [
    {
     "ename": "AttributeError",
     "evalue": "'dict' object has no attribute '_geom'",
     "output_type": "error",
     "traceback": [
      "\u001b[0;31m\u001b[0m",
      "\u001b[0;31mAttributeError\u001b[0mTraceback (most recent call last)",
      "\u001b[0;32m<ipython-input-21-074e68ec0e5e>\u001b[0m in \u001b[0;36m<module>\u001b[0;34m()\u001b[0m\n\u001b[0;32m----> 1\u001b[0;31m \u001b[0mshape_1\u001b[0m\u001b[0;34m.\u001b[0m\u001b[0mintersection\u001b[0m\u001b[0;34m(\u001b[0m\u001b[0mshape_2\u001b[0m\u001b[0;34m)\u001b[0m\u001b[0;34m.\u001b[0m\u001b[0mrepresentative_point\u001b[0m\u001b[0;34m(\u001b[0m\u001b[0;34m)\u001b[0m\u001b[0;34m\u001b[0m\u001b[0m\n\u001b[0m",
      "\u001b[0;32m/home/user/.local/lib/python2.7/site-packages/shapely/geometry/base.pyc\u001b[0m in \u001b[0;36mintersection\u001b[0;34m(self, other)\u001b[0m\n\u001b[1;32m    647\u001b[0m     \u001b[0;32mdef\u001b[0m \u001b[0mintersection\u001b[0m\u001b[0;34m(\u001b[0m\u001b[0mself\u001b[0m\u001b[0;34m,\u001b[0m \u001b[0mother\u001b[0m\u001b[0;34m)\u001b[0m\u001b[0;34m:\u001b[0m\u001b[0;34m\u001b[0m\u001b[0m\n\u001b[1;32m    648\u001b[0m         \u001b[0;34m\"\"\"Returns the intersection of the geometries\"\"\"\u001b[0m\u001b[0;34m\u001b[0m\u001b[0m\n\u001b[0;32m--> 649\u001b[0;31m         \u001b[0;32mreturn\u001b[0m \u001b[0mgeom_factory\u001b[0m\u001b[0;34m(\u001b[0m\u001b[0mself\u001b[0m\u001b[0;34m.\u001b[0m\u001b[0mimpl\u001b[0m\u001b[0;34m[\u001b[0m\u001b[0;34m'intersection'\u001b[0m\u001b[0;34m]\u001b[0m\u001b[0;34m(\u001b[0m\u001b[0mself\u001b[0m\u001b[0;34m,\u001b[0m \u001b[0mother\u001b[0m\u001b[0;34m)\u001b[0m\u001b[0;34m)\u001b[0m\u001b[0;34m\u001b[0m\u001b[0m\n\u001b[0m\u001b[1;32m    650\u001b[0m \u001b[0;34m\u001b[0m\u001b[0m\n\u001b[1;32m    651\u001b[0m     \u001b[0;32mdef\u001b[0m \u001b[0msymmetric_difference\u001b[0m\u001b[0;34m(\u001b[0m\u001b[0mself\u001b[0m\u001b[0;34m,\u001b[0m \u001b[0mother\u001b[0m\u001b[0;34m)\u001b[0m\u001b[0;34m:\u001b[0m\u001b[0;34m\u001b[0m\u001b[0m\n",
      "\u001b[0;32m/home/user/.local/lib/python2.7/site-packages/shapely/topology.pyc\u001b[0m in \u001b[0;36m__call__\u001b[0;34m(self, this, other, *args)\u001b[0m\n\u001b[1;32m     63\u001b[0m     \u001b[0;32mdef\u001b[0m \u001b[0m__call__\u001b[0m\u001b[0;34m(\u001b[0m\u001b[0mself\u001b[0m\u001b[0;34m,\u001b[0m \u001b[0mthis\u001b[0m\u001b[0;34m,\u001b[0m \u001b[0mother\u001b[0m\u001b[0;34m,\u001b[0m \u001b[0;34m*\u001b[0m\u001b[0margs\u001b[0m\u001b[0;34m)\u001b[0m\u001b[0;34m:\u001b[0m\u001b[0;34m\u001b[0m\u001b[0m\n\u001b[1;32m     64\u001b[0m         \u001b[0mself\u001b[0m\u001b[0;34m.\u001b[0m\u001b[0m_validate\u001b[0m\u001b[0;34m(\u001b[0m\u001b[0mthis\u001b[0m\u001b[0;34m)\u001b[0m\u001b[0;34m\u001b[0m\u001b[0m\n\u001b[0;32m---> 65\u001b[0;31m         \u001b[0mself\u001b[0m\u001b[0;34m.\u001b[0m\u001b[0m_validate\u001b[0m\u001b[0;34m(\u001b[0m\u001b[0mother\u001b[0m\u001b[0;34m,\u001b[0m \u001b[0mstop_prepared\u001b[0m\u001b[0;34m=\u001b[0m\u001b[0mTrue\u001b[0m\u001b[0;34m)\u001b[0m\u001b[0;34m\u001b[0m\u001b[0m\n\u001b[0m\u001b[1;32m     66\u001b[0m         \u001b[0mproduct\u001b[0m \u001b[0;34m=\u001b[0m \u001b[0mself\u001b[0m\u001b[0;34m.\u001b[0m\u001b[0mfn\u001b[0m\u001b[0;34m(\u001b[0m\u001b[0mthis\u001b[0m\u001b[0;34m.\u001b[0m\u001b[0m_geom\u001b[0m\u001b[0;34m,\u001b[0m \u001b[0mother\u001b[0m\u001b[0;34m.\u001b[0m\u001b[0m_geom\u001b[0m\u001b[0;34m,\u001b[0m \u001b[0;34m*\u001b[0m\u001b[0margs\u001b[0m\u001b[0;34m)\u001b[0m\u001b[0;34m\u001b[0m\u001b[0m\n\u001b[1;32m     67\u001b[0m         \u001b[0;32mif\u001b[0m \u001b[0mproduct\u001b[0m \u001b[0;32mis\u001b[0m \u001b[0mNone\u001b[0m\u001b[0;34m:\u001b[0m\u001b[0;34m\u001b[0m\u001b[0m\n",
      "\u001b[0;32m/home/user/.local/lib/python2.7/site-packages/shapely/topology.pyc\u001b[0m in \u001b[0;36m_validate\u001b[0;34m(self, ob, stop_prepared)\u001b[0m\n\u001b[1;32m     15\u001b[0m \u001b[0;34m\u001b[0m\u001b[0m\n\u001b[1;32m     16\u001b[0m     \u001b[0;32mdef\u001b[0m \u001b[0m_validate\u001b[0m\u001b[0;34m(\u001b[0m\u001b[0mself\u001b[0m\u001b[0;34m,\u001b[0m \u001b[0mob\u001b[0m\u001b[0;34m,\u001b[0m \u001b[0mstop_prepared\u001b[0m\u001b[0;34m=\u001b[0m\u001b[0mFalse\u001b[0m\u001b[0;34m)\u001b[0m\u001b[0;34m:\u001b[0m\u001b[0;34m\u001b[0m\u001b[0m\n\u001b[0;32m---> 17\u001b[0;31m         \u001b[0;32mif\u001b[0m \u001b[0mob\u001b[0m \u001b[0;32mis\u001b[0m \u001b[0mNone\u001b[0m \u001b[0;32mor\u001b[0m \u001b[0mob\u001b[0m\u001b[0;34m.\u001b[0m\u001b[0m_geom\u001b[0m \u001b[0;32mis\u001b[0m \u001b[0mNone\u001b[0m\u001b[0;34m:\u001b[0m\u001b[0;34m\u001b[0m\u001b[0m\n\u001b[0m\u001b[1;32m     18\u001b[0m             \u001b[0;32mraise\u001b[0m \u001b[0mValueError\u001b[0m\u001b[0;34m(\u001b[0m\u001b[0;34m\"Null geometry supports no operations\"\u001b[0m\u001b[0;34m)\u001b[0m\u001b[0;34m\u001b[0m\u001b[0m\n\u001b[1;32m     19\u001b[0m         \u001b[0;32mif\u001b[0m \u001b[0mstop_prepared\u001b[0m \u001b[0;32mand\u001b[0m \u001b[0mhasattr\u001b[0m\u001b[0;34m(\u001b[0m\u001b[0mob\u001b[0m\u001b[0;34m,\u001b[0m \u001b[0;34m'prepared'\u001b[0m\u001b[0;34m)\u001b[0m\u001b[0;34m:\u001b[0m\u001b[0;34m\u001b[0m\u001b[0m\n",
      "\u001b[0;31mAttributeError\u001b[0m: 'dict' object has no attribute '_geom'"
     ]
    }
   ],
   "source": [
    "shape_1.intersection(shape_2).representative_point()"
   ]
  },
  {
   "cell_type": "code",
   "execution_count": 22,
   "metadata": {},
   "outputs": [
    {
     "data": {
      "image/svg+xml": [
       "<svg xmlns=\"http://www.w3.org/2000/svg\" xmlns:xlink=\"http://www.w3.org/1999/xlink\" width=\"100.0\" height=\"100.0\" viewBox=\"-56.1825241408 -34.904417635 0.000940525108824 0.000400762795081\" preserveAspectRatio=\"xMinYMin meet\"><g transform=\"matrix(1,0,0,-1,0,-69.8084345073)\"><polyline fill=\"none\" stroke=\"#66cc99\" stroke-width=\"1.88105021765e-05\" points=\"-56.1824893065,-34.9043828008 -56.18161845,-34.9040517065\" opacity=\"0.8\" /></g></svg>"
      ],
      "text/plain": [
       "<shapely.geometry.linestring.LineString at 0x7f7d2ffe6c10>"
      ]
     },
     "execution_count": 22,
     "metadata": {},
     "output_type": "execute_result"
    }
   ],
   "source": [
    "shape(match['objects'][0]['geometry'])"
   ]
  },
  {
   "cell_type": "code",
   "execution_count": 289,
   "metadata": {},
   "outputs": [
    {
     "name": "stdout",
     "output_type": "stream",
     "text": [
      "(u'ASUNCION', 41.61135, [u'ASUNCION'], u'LineString')\n",
      "(u'ASUNCION', 41.61135, [u'ASUNCION'], u'LineString')\n",
      "(u'ASUNCION', 41.61135, [u'ASUNCION'], u'LineString')\n",
      "(u'ASUNCION', 41.61135, [u'ASUNCION'], u'LineString')\n",
      "(u'ASUNCION', 41.61135, [u'ASUNCION'], u'LineString')\n",
      "(u'ASUNCION', 41.61135, [u'ASUNCION'], u'LineString')\n",
      "(u'ASUNCION', 41.61135, [u'ASUNCION'], u'LineString')\n",
      "(u'ASUNCION', 41.61135, [u'ASUNCION'], u'LineString')\n",
      "(u'ASUNCION', 41.61135, [u'ASUNCION'], u'LineString')\n",
      "(u'ASUNCION', 41.61135, [u'ASUNCION'], u'LineString')\n",
      "(u'ASUNCION', 41.61135, [u'ASUNCION'], u'LineString')\n",
      "(u'ASUNCION', 41.61135, [u'ASUNCION'], u'LineString')\n",
      "(u'ASUNCION', 41.61135, [u'ASUNCION'], u'LineString')\n",
      "(u'RICARDO PALMA', 18.626146, [u'PALMA'], u'LineString')\n",
      "(u'RICARDO PALMA', 18.626146, [u'PALMA'], u'LineString')\n",
      "(u'RICARDO PALMA', 18.626146, [u'PALMA'], u'LineString')\n",
      "(u'RICARDO PALMA', 18.626146, [u'PALMA'], u'LineString')\n",
      "(u'RICARDO PALMA', 18.626146, [u'PALMA'], u'LineString')\n",
      "(u'PARAGUAY', 17.999256, [u'PARAGUAY'], u'LineString')\n",
      "(u'PARAGUAY', 17.999256, [u'PARAGUAY'], u'LineString')\n",
      "(u'PARAGUAY', 17.999256, [u'PARAGUAY'], u'LineString')\n",
      "(u'PARAGUAY', 17.999256, [u'PARAGUAY'], u'LineString')\n",
      "(u'PARAGUAY', 17.999256, [u'PARAGUAY'], u'LineString')\n",
      "(u'PARAGUAY', 17.999256, [u'PARAGUAY'], u'LineString')\n",
      "(u'PARAGUAY', 17.999256, [u'PARAGUAY'], u'LineString')\n",
      "(u'PARAGUAY', 17.999256, [u'PARAGUAY'], u'LineString')\n",
      "(u'PARAGUAY', 17.999256, [u'PARAGUAY'], u'LineString')\n",
      "(u'PARAGUAY', 17.999256, [u'PARAGUAY'], u'LineString')\n",
      "(u'PARAGUAY', 17.999256, [u'PARAGUAY'], u'LineString')\n",
      "(u'PARAGUAY', 17.999256, [u'PARAGUAY'], u'LineString')\n",
      "(u'PARAGUAY', 17.999256, [u'PARAGUAY'], u'LineString')\n",
      "(u'PARAGUAY', 17.999256, [u'PARAGUAY'], u'LineString')\n",
      "(u'PARAGUAY', 17.999256, [u'PARAGUAY'], u'LineString')\n",
      "(u'PARAGUAY', 17.999256, [u'PARAGUAY'], u'LineString')\n",
      "(u'PARAGUAY', 17.999256, [u'PARAGUAY'], u'LineString')\n",
      "(u'PARAGUAY', 17.999256, [u'PARAGUAY'], u'LineString')\n",
      "(u'PARAGUAY', 17.999256, [u'PARAGUAY'], u'LineString')\n",
      "(u'PARAGUAY', 17.999256, [u'PARAGUAY'], u'LineString')\n",
      "(u'PARAGUAY', 17.999256, [u'PARAGUAY'], u'LineString')\n",
      "(u'PARAGUAY', 17.999256, [u'PARAGUAY'], u'LineString')\n",
      "(u'PARAGUAY', 17.999256, [u'PARAGUAY'], u'LineString')\n",
      "(u'PARAGUAY', 17.999256, [u'PARAGUAY'], u'LineString')\n",
      "(u'PARAGUAY', 17.999256, [u'PARAGUAY'], u'LineString')\n",
      "(u'PARAGUAY', 17.999256, [u'PARAGUAY'], u'LineString')\n",
      "(u'PARAGUAY', 17.999256, [u'PARAGUAY'], u'LineString')\n",
      "(u'PARAGUAY', 17.999256, [u'PARAGUAY'], u'LineString')\n",
      "(u'PARAGUAY', 17.999256, [u'PARAGUAY'], u'LineString')\n",
      "(u'PARAGUAY', 17.999256, [u'PARAGUAY'], u'LineString')\n",
      "(u'PARAGUAY', 17.999256, [u'PARAGUAY'], u'LineString')\n",
      "(u'PARAGUAY', 17.999256, [u'PARAGUAY'], u'LineString')\n",
      "(u'PARAGUAY', 17.999256, [u'PARAGUAY'], u'LineString')\n",
      "(u'PARAGUAY', 17.999256, [u'PARAGUAY'], u'LineString')\n",
      "(u'PARAGUAY', 17.999256, [u'PARAGUAY'], u'LineString')\n",
      "(u'PARAGUAY', 17.999256, [u'PARAGUAY'], u'LineString')\n",
      "(u'PARAGUAY', 17.999256, [u'PARAGUAY'], u'LineString')\n",
      "(u'PARAGUAY', 17.999256, [u'PARAGUAY'], u'LineString')\n",
      "(u'PARAGUAY', 17.999256, [u'PARAGUAY'], u'LineString')\n",
      "(u'PARAGUAY', 17.999256, [u'PARAGUAY'], u'LineString')\n",
      "(u'PARAGUAY', 17.999256, [u'PARAGUAY'], u'LineString')\n",
      "(u'Edificio Torre Asuncion', 14.621515, [u'Asuncion'], u'Point')\n",
      "(u'CNO DR EDUARDO PALMA', 13.80615, [u'PALMA'], u'LineString')\n",
      "(u'Bolsa de Valores (Montevideo)', 13.5631485, [u'Bolsa', u'(Montevideo)'], u'Point')\n",
      "(u'Montevideo', 8.737706, [u'Montevideo', u'MVD', u'Mantehvideha', u'Montebideo', u'Montevidejas', u'Montevideu', u'Montevidiejos', u'Montevid\\xe9u'], u'Point')\n",
      "(u'Casa Williman', 7.8819256, [u'Casa'], u'Point')\n",
      "(u'Casa Casabo', 7.8819256, [u'Casa'], u'Point')\n",
      "(u'Casa Crespi', 7.8819256, [u'Casa'], u'Point')\n",
      "(u'Casa Nowinski', 7.8819256, [u'Casa'], u'Point')\n",
      "(u'Casa Perotti', 7.8819256, [u'Casa'], u'Point')\n",
      "(u'Casa Arcieri', 7.8819256, [u'Casa'], u'Point')\n",
      "(u'Casa Yriart', 7.8819256, [u'Casa'], u'Point')\n",
      "(u'Casa Reborati', 7.8819256, [u'Casa'], u'Point')\n",
      "(u'Casa Bello', 7.8819256, [u'Casa'], u'Point')\n",
      "(u'Casa Boada', 7.8819256, [u'Casa'], u'Point')\n",
      "(u'Casa Artucio', 7.8819256, [u'Casa'], u'Point')\n",
      "(u'Casa Zambrano', 7.8819256, [u'Casa'], u'Point')\n",
      "(u'Casa Braselli', 7.8819256, [u'Casa'], u'Point')\n",
      "(u'Casa Ardao', 7.8819256, [u'Casa'], u'Point')\n",
      "(u'Casa Souto', 7.8819256, [u'Casa'], u'Point')\n",
      "(u'Tryp Montevideo', 7.212454, [u'Montevideo'], u'Point')\n",
      "(u'Ibis Montevideo', 7.212454, [u'Montevideo'], u'Point')\n",
      "(u'Montevideo Shopping', 7.212454, [u'Montevideo'], u'Point')\n",
      "(u'After Montevideo', 7.212454, [u'Montevideo'], u'Point')\n",
      "(u'Continental (Montevideo)', 7.212454, [u'(Montevideo)'], u'Point')\n",
      "(u'Esplendor Montevideo', 7.212454, [u'Montevideo'], u'Point')\n",
      "(u'Embajador Montevideo', 7.212454, [u'Montevideo'], u'Point')\n",
      "(u'Dazzler Montevideo', 7.212454, [u'Montevideo'], u'Point')\n",
      "(u'Viewport Montevideo', 7.212454, [u'Montevideo'], u'Point')\n",
      "(u'Smart Montevideo', 7.212454, [u'Montevideo'], u'Point')\n",
      "(u'PALMA DE MALLORCA PLAZA', 6.903075, [u'PALMA'], u'Polygon')\n",
      "(u'Casa Manuel Esmoris', 6.710537, [u'Casa'], u'Point')\n",
      "(u'Casa Mario Pastore', 6.710537, [u'Casa'], u'Point')\n",
      "(u'Casa Ariel Orozco', 6.710537, [u'Casa'], u'Point')\n",
      "(u'Rada de Montevideo', 6.14056, [u'Montevideo', u'Roads'], u'Point')\n",
      "(u'Departamento de Montevideo', 6.14056, [u'Montevideo', u'Departamento'], u'Point')\n",
      "(u'Cerro de Montevideo', 6.14056, [u'Montevideo', u'El'], u'Point')\n",
      "(u'Baha de Montevideo', 6.14056, [u'Montevideo', u'Bahia', u'Bah\\xeda'], u'Point')\n",
      "(u'Puerto de Montevideo', 6.14056, [u'Montevideo', u'Port', u'Puerto'], u'Point')\n",
      "(u'British Schools Montevideo', 6.14056, [u'Montevideo'], u'Point')\n",
      "(u'Sheraton Montevideo Hotel', 6.14056, [u'Montevideo'], u'Point')\n",
      "(u'Four Points Montevideo', 6.14056, [u'Montevideo'], u'Point')\n",
      "(u'Montevideo Rowing Club', 6.14056, [u'Montevideo'], u'Point')\n",
      "(u'Hospital Pasteur (Montevideo)', 6.14056, [u'(Montevideo)'], u'Point')\n",
      "(u'Edificio Trouville (Montevideo)', 6.14056, [u'(Montevideo)'], u'Point')\n",
      "(u'Ateneo de Montevideo', 6.14056, [u'Montevideo'], u'Point')\n",
      "(u'Cabildo de Montevideo', 6.14056, [u'Montevideo'], u'Point')\n",
      "(u'Los Angeles (Montevideo)', 6.14056, [u'(Montevideo)'], u'Point')\n",
      "(u'Melia Confort Montevideo', 6.14056, [u'Montevideo', u'Meli\\xe1'], u'Point')\n",
      "(u'Crystal Palace (Montevideo)', 6.14056, [u'(Montevideo)'], u'Point')\n",
      "(u'My Suites Montevideo', 6.14056, [u'Montevideo'], u'Point')\n",
      "(u'Intercity Premium Montevideo', 6.14056, [u'Montevideo'], u'Point')\n",
      "(u'Intercity Premum Montevideo', 6.14056, [u'Montevideo'], u'Point')\n",
      "(u'Hyatt Centric Montevideo', 6.14056, [u'Montevideo'], u'Point')\n",
      "(u'Casa Juan Alberto Schiaffino', 5.8422747, [u'Casa'], u'Point')\n",
      "(u'Casa Forteza y Otero', 5.8422747, [u'Casa'], u'Point')\n",
      "(u'Casa Mario Paysee Reyes', 5.8422747, [u'Casa'], u'Point')\n",
      "(u'Casa Quinta Idiarte Borda', 5.8422747, [u'Casa'], u'Point')\n",
      "(u'Liceo No 28 (Montevideo)', 5.3460455, [u'(Montevideo)'], u'Point')\n",
      "(u'Instituto Pauster de Montevideo', 5.3460455, [u'Montevideo'], u'Point')\n",
      "(u'Teatro Florencio Sanchez (Montevideo)', 5.3460455, [u'(Montevideo)'], u'Point')\n",
      "(u'World Trade Center Montevideo', 5.3460455, [u'Montevideo'], u'Point')\n",
      "(u'Intendencia Municipal de Montevideo', 5.3460455, [u'Montevideo'], u'Point')\n",
      "(u'Montevideo Fluvial Bus Station', 5.3460455, [u'Montevideo', u'FMV'], u'Point')\n",
      "(u'Mercure Montevideo Punta Carretas', 5.3460455, [u'Montevideo'], u'Point')\n",
      "(u'Hotel Dazzler Tower Montevideo', 5.3460455, [u'Montevideo'], u'Point')\n",
      "(u'Montevideo Chic Boutique Hostel', 5.3460455, [u'Montevideo'], u'Point')\n",
      "(u'Casa Jose Pedro Sierra Morato', 5.1729565, [u'Casa'], u'Point')\n",
      "(u'Museo Historico Nacional Casa Garibaldi', 5.1729565, [u'Casa'], u'Point')\n",
      "(u'Radisson Montevideo Victoria Plaza Hotel', 4.7335777, [u'Montevideo'], u'Point')\n",
      "(u'Escuela No 17 Brasil (Montevideo)', 4.7335777, [u'(Montevideo)'], u'Point')\n",
      "(u'Edificio Jockey Club de Montevideo', 4.7335777, [u'Montevideo'], u'Point')\n",
      "(u'Sofitel Montevideo Casino Carrasco & Spa', 4.7335777, [u'Montevideo'], u'Point')\n",
      "(u'Casa Quinta Doctor Carlos Vaz Ferreira', 4.6412354, [u'Casa'], u'Point')\n",
      "(u'Casa Joel Petit de la Villon', 4.6412354, [u'Casa'], u'Point')\n",
      "(u'Liceo No 7 Joaquin Suarez (Montevideo)', 4.24702, [u'(Montevideo)'], u'Point')\n",
      "(u'Sofitel Montevideo Casino Carrasco And Spa', 4.24702, [u'Montevideo'], u'Point')\n",
      "(u'1.4 Merit Montevideo Apart And Suites', 4.24702, [u'Montevideo'], u'Point')\n",
      "(u'Casa Quinta de Jos Batlle y Ordoez', 4.2086353, [u'Casa'], u'Point')\n",
      "(u'Obelisco a los Constituyentes de 1830 (Montevideo)', 3.8511639, [u'(Montevideo)'], u'Point')\n",
      "(u'Edificio Centro de Proteccion de Choferes de Montevideo', 3.522809, [u'Montevideo'], u'Point')\n"
     ]
    }
   ],
   "source": [
    "for res in boosting_match_bool_search(text,500):\n",
    "    obj = getResultObject(res)\n",
    "    print(obj['name'],obj['score'],obj['highlights'],obj['geo_type'])"
   ]
  },
  {
   "cell_type": "code",
   "execution_count": null,
   "metadata": {},
   "outputs": [],
   "source": []
  }
 ],
 "metadata": {
  "kernelspec": {
   "display_name": "Python 2",
   "language": "python",
   "name": "python2"
  },
  "language_info": {
   "codemirror_mode": {
    "name": "ipython",
    "version": 2
   },
   "file_extension": ".py",
   "mimetype": "text/x-python",
   "name": "python",
   "nbconvert_exporter": "python",
   "pygments_lexer": "ipython2",
   "version": "2.7.13"
  }
 },
 "nbformat": 4,
 "nbformat_minor": 2
}
