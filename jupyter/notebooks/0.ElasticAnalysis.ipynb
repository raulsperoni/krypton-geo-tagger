{
 "cells": [
  {
   "cell_type": "code",
   "execution_count": 1,
   "metadata": {},
   "outputs": [
    {
     "name": "stderr",
     "output_type": "stream",
     "text": [
      "/usr/local/lib/python2.7/dist-packages/requests/__init__.py:80: RequestsDependencyWarning: urllib3 (1.25.8) or chardet (3.0.4) doesn't match a supported version!\n",
      "  RequestsDependencyWarning)\n"
     ]
    }
   ],
   "source": [
    "from datetime import datetime\n",
    "from elasticsearch import Elasticsearch\n",
    "es = Elasticsearch([{'host': 'elasticsearch', 'port': 9200}])"
   ]
  },
  {
   "cell_type": "code",
   "execution_count": 2,
   "metadata": {},
   "outputs": [
    {
     "data": {
      "text/plain": [
       "{u'.apm-agent-configuration': {u'aliases': {}},\n",
       " u'.kibana_1': {u'aliases': {u'.kibana': {}}},\n",
       " u'.kibana_task_manager_1': {u'aliases': {u'.kibana_task_manager': {}}},\n",
       " u'montevideo': {u'aliases': {}}}"
      ]
     },
     "execution_count": 2,
     "metadata": {},
     "output_type": "execute_result"
    }
   ],
   "source": [
    "es.indices.get_alias(\"*\")"
   ]
  },
  {
   "cell_type": "code",
   "execution_count": 57,
   "metadata": {},
   "outputs": [],
   "source": [
    "from elasticsearch.client import IndicesClient\n",
    "ic = IndicesClient(es)"
   ]
  },
  {
   "cell_type": "code",
   "execution_count": 59,
   "metadata": {},
   "outputs": [],
   "source": [
    "text = 'Siento mucha tristeza al ver esto en Montevideo. Una persona compartió esta imagen que ocurrió hace minutos en la esquina de Salto y (Bernabé) Rivera. La cantidad de personas en situación de calle creció en la capital. Hay planes para mejorar esta realidad, pero duele verla.'"
   ]
  },
  {
   "cell_type": "code",
   "execution_count": 65,
   "metadata": {},
   "outputs": [
    {
     "name": "stdout",
     "output_type": "stream",
     "text": [
      "siento\n",
      "mucha\n",
      "tristeza\n",
      "ver\n",
      "montevideo\n",
      "persona\n",
      "compartio\n",
      "imagen\n",
      "ocurrio\n",
      "hace\n",
      "minutos\n",
      "esquina\n",
      "salto\n",
      "bernabe\n",
      "rivera\n",
      "cantidad\n",
      "personas\n",
      "situacion\n",
      "calle\n",
      "crecio\n",
      "capital\n",
      "planes\n",
      "mejorar\n",
      "realidad\n",
      "duele\n",
      "verla\n"
     ]
    }
   ],
   "source": [
    "results = ic.analyze(index=\"montevideo\", body=\n",
    "{\n",
    "  \"text\": text, \n",
    "    \"analyzer\":\"calle_analyzer\"\n",
    "})\n",
    "for result in results['tokens']:\n",
    "    print(result['token'])"
   ]
  },
  {
   "cell_type": "code",
   "execution_count": 80,
   "metadata": {},
   "outputs": [
    {
     "name": "stdout",
     "output_type": "stream",
     "text": [
      "(14.838232, u'geonames_uy_montevideo', u'Jacinto Vera')\n",
      "(13.064062, u'v_mdg_vias', u'BERNABE RIVERA')\n",
      "(12.519434, u'v_mdg_vias', u'SANTO TOME')\n",
      "(12.519434, u'v_mdg_vias', u'SANTO TOME')\n",
      "(12.519434, u'v_mdg_vias', u'SANTO TOME')\n",
      "(12.519434, u'v_mdg_vias', u'SANTO TOME')\n",
      "(12.519434, u'v_mdg_vias', u'SANTO TOME')\n",
      "(12.519434, u'v_mdg_vias', u'SANTO TOME')\n",
      "(12.380219, u'v_mdg_vias', u'VERA')\n",
      "(12.380219, u'v_mdg_vias', u'VERA')\n",
      "(12.380219, u'v_mdg_vias', u'VERA')\n",
      "(12.380219, u'v_mdg_vias', u'VERA')\n",
      "(12.380219, u'v_mdg_vias', u'VERA')\n",
      "(12.380219, u'v_mdg_vias', u'VERA')\n",
      "(12.380219, u'v_mdg_vias', u'VERA')\n",
      "(12.380219, u'v_mdg_vias', u'VERA')\n",
      "(12.380219, u'v_mdg_vias', u'VERA')\n",
      "(10.833555, u'v_mdg_vias', u'SALTO')\n",
      "(10.833555, u'v_mdg_vias', u'SALTO')\n",
      "(10.833555, u'v_mdg_vias', u'SALTO')\n",
      "(10.833555, u'v_mdg_vias', u'SALTO')\n",
      "(10.833555, u'v_mdg_vias', u'SALTO')\n",
      "(10.833555, u'v_mdg_vias', u'SALTO')\n",
      "(10.833555, u'v_mdg_vias', u'SALTO')\n",
      "(10.833555, u'v_mdg_vias', u'SALTO')\n",
      "(10.833555, u'v_mdg_vias', u'SALTO')\n",
      "(10.833555, u'v_mdg_vias', u'SALTO')\n",
      "(10.658832, u'v_mdg_espacios_libres', u'SANTO DOMINGO CANTERO')\n",
      "(10.219131, u'v_mdg_vias', u'AGUSTIN VERA')\n",
      "(10.219131, u'v_mdg_vias', u'JACINTO VERA')\n"
     ]
    }
   ],
   "source": [
    "results = es.search(index=\"montevideo\", body=\n",
    "{\n",
    "\"from\" : 0, \"size\" : 30,\n",
    "  \"query\": {\n",
    "    \"multi_match\" : {\n",
    "      \"query\":    text, \n",
    "      \"fields\": [ \"nombre\", \"aliases\" ],\n",
    "        \"analyzer\": \"calle_analyzer\",\n",
    "             \"fuzziness\": \"AUTO\",\n",
    "\n",
    "    }\n",
    "  }\n",
    "})\n",
    "for result in results['hits']['hits']:\n",
    "    print(result['_score'],result['_source']['type'],result['_source']['nombre'])"
   ]
  },
  {
   "cell_type": "code",
   "execution_count": 81,
   "metadata": {},
   "outputs": [
    {
     "name": "stdout",
     "output_type": "stream",
     "text": [
      "(26.975761, u'v_mdg_vias', u'BERNABE RIVERA')\n",
      "(21.450012, u'v_mdg_vias', u'SALTO')\n",
      "(21.450012, u'v_mdg_vias', u'SALTO')\n",
      "(21.450012, u'v_mdg_vias', u'SALTO')\n",
      "(21.450012, u'v_mdg_vias', u'SALTO')\n",
      "(21.450012, u'v_mdg_vias', u'SALTO')\n",
      "(21.450012, u'v_mdg_vias', u'SALTO')\n",
      "(21.450012, u'v_mdg_vias', u'SALTO')\n",
      "(21.450012, u'v_mdg_vias', u'SALTO')\n",
      "(21.450012, u'v_mdg_vias', u'SALTO')\n",
      "(21.450012, u'v_mdg_vias', u'SALTO')\n",
      "(20.617197, u'geonames_uy_montevideo', u'Tryp Montevideo')\n",
      "(20.617197, u'geonames_uy_montevideo', u'Ibis Montevideo')\n",
      "(20.617197, u'geonames_uy_montevideo', u'Montevideo Shopping')\n",
      "(20.617197, u'geonames_uy_montevideo', u'After Montevideo')\n",
      "(20.617197, u'geonames_uy_montevideo', u'Continental (Montevideo)')\n",
      "(20.617197, u'geonames_uy_montevideo', u'Esplendor Montevideo')\n",
      "(20.617197, u'geonames_uy_montevideo', u'Embajador Montevideo')\n",
      "(20.617197, u'geonames_uy_montevideo', u'Dazzler Montevideo')\n",
      "(20.617197, u'geonames_uy_montevideo', u'Viewport Montevideo')\n",
      "(20.617197, u'geonames_uy_montevideo', u'Smart Montevideo')\n",
      "(20.561665, u'geonames_uy_montevideo', u'Departamento de Montevideo')\n",
      "(20.232552, u'geonames_uy_montevideo', u'Bah\\xeda de Montevideo')\n",
      "(20.200424, u'geonames_uy_montevideo', u'Puerto de Montevideo')\n",
      "(19.87279, u'geonames_uy_montevideo', u'Rada de Montevideo')\n",
      "(19.181921, u'geonames_uy_montevideo', u'Ateneo de Montevideo')\n",
      "(19.181921, u'geonames_uy_montevideo', u'Cabildo de Montevideo')\n",
      "(19.181921, u'geonames_uy_montevideo', u'Los Angeles (Montevideo)')\n",
      "(18.724981, u'geonames_uy_montevideo', u'Monumento al General Fructuoso Rivera')\n",
      "(18.562462, u'geonames_uy_montevideo', u'Montevideo')\n"
     ]
    }
   ],
   "source": [
    "results = es.search(index=\"montevideo\", body=\n",
    "{\n",
    "    \"from\" : 0, \"size\" : 30,\n",
    "  \"query\": {\n",
    "    \"simple_query_string\" : {\n",
    "        \"query\": text,\n",
    "        \"analyzer\": \"calle_analyzer\"\n",
    "    }\n",
    "  }\n",
    "})\n",
    "for result in results['hits']['hits']:\n",
    "    print(result['_score'],result['_source']['type'],result['_source']['nombre'])"
   ]
  },
  {
   "cell_type": "code",
   "execution_count": 82,
   "metadata": {},
   "outputs": [
    {
     "name": "stdout",
     "output_type": "stream",
     "text": [
      "(13.711504, u'v_mdg_vias', u'BERNABE RIVERA')\n",
      "(10.833555, u'v_mdg_vias', u'SALTO')\n",
      "(10.833555, u'v_mdg_vias', u'SALTO')\n",
      "(10.833555, u'v_mdg_vias', u'SALTO')\n",
      "(10.833555, u'v_mdg_vias', u'SALTO')\n",
      "(10.833555, u'v_mdg_vias', u'SALTO')\n",
      "(10.833555, u'v_mdg_vias', u'SALTO')\n",
      "(10.833555, u'v_mdg_vias', u'SALTO')\n",
      "(10.833555, u'v_mdg_vias', u'SALTO')\n",
      "(10.833555, u'v_mdg_vias', u'SALTO')\n",
      "(10.833555, u'v_mdg_vias', u'SALTO')\n",
      "(8.737706, u'geonames_uy_montevideo', u'Montevideo')\n",
      "(8.379783, u'v_mdg_vias', u'BERNABE MAGARI\\xd1OS')\n",
      "(8.379783, u'v_mdg_vias', u'BERNABE MAGARI\\xd1OS')\n",
      "(8.379783, u'v_mdg_vias', u'BERNABE CARAVIA')\n",
      "(8.379783, u'v_mdg_vias', u'BERNABE CARAVIA')\n",
      "(8.379783, u'v_mdg_vias', u'BERNABE CARAVIA')\n",
      "(8.379783, u'v_mdg_vias', u'BERNABE CARAVIA')\n",
      "(8.379783, u'v_mdg_vias', u'BERNABE MICHELENA')\n",
      "(8.379783, u'v_mdg_vias', u'BERNABE MICHELENA')\n",
      "(8.379783, u'v_mdg_vias', u'BERNABE MICHELENA')\n",
      "(8.379783, u'v_mdg_vias', u'BERNABE MICHELENA')\n",
      "(8.379783, u'v_mdg_vias', u'BERNABE MICHELENA')\n",
      "(8.379783, u'v_mdg_vias', u'BERNABE MICHELENA')\n",
      "(8.379783, u'v_mdg_vias', u'BERNABE MICHELENA')\n",
      "(8.379783, u'v_mdg_vias', u'BERNABE MICHELENA')\n",
      "(8.379783, u'v_mdg_vias', u'BERNABE MICHELENA')\n",
      "(7.212454, u'geonames_uy_montevideo', u'Tryp Montevideo')\n",
      "(7.212454, u'geonames_uy_montevideo', u'Ibis Montevideo')\n",
      "(7.212454, u'geonames_uy_montevideo', u'Montevideo Shopping')\n"
     ]
    }
   ],
   "source": [
    "results = es.search(index=\"montevideo\", body=\n",
    "{\n",
    "    \"from\" : 0, \"size\" : 30,\n",
    "\n",
    "    \"query\" : {\n",
    "        \"query_string\" : {\n",
    "            \"query\" : text,\n",
    "            \"analyzer\": \"calle_analyzer\"\n",
    "        }\n",
    "    }\n",
    "})\n",
    "for result in results['hits']['hits']:\n",
    "    print(result['_score'],result['_source']['type'],result['_source']['nombre'])"
   ]
  },
  {
   "cell_type": "code",
   "execution_count": null,
   "metadata": {},
   "outputs": [],
   "source": []
  }
 ],
 "metadata": {
  "kernelspec": {
   "display_name": "Python 2",
   "language": "python",
   "name": "python2"
  },
  "language_info": {
   "codemirror_mode": {
    "name": "ipython",
    "version": 2
   },
   "file_extension": ".py",
   "mimetype": "text/x-python",
   "name": "python",
   "nbconvert_exporter": "python",
   "pygments_lexer": "ipython2",
   "version": "2.7.13"
  }
 },
 "nbformat": 4,
 "nbformat_minor": 2
}
