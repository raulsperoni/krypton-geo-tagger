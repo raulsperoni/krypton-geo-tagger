{
 "cells": [
  {
   "cell_type": "code",
   "execution_count": 1,
   "metadata": {},
   "outputs": [
    {
     "name": "stderr",
     "output_type": "stream",
     "text": [
      "/usr/local/lib/python2.7/dist-packages/requests/__init__.py:80: RequestsDependencyWarning: urllib3 (1.25.8) or chardet (3.0.4) doesn't match a supported version!\n",
      "  RequestsDependencyWarning)\n"
     ]
    }
   ],
   "source": [
    "from datetime import datetime\n",
    "from elasticsearch import Elasticsearch\n",
    "es = Elasticsearch([{'host': 'elasticsearch', 'port': 9200}])"
   ]
  },
  {
   "cell_type": "code",
   "execution_count": 148,
   "metadata": {},
   "outputs": [],
   "source": [
    "import time\n",
    "def timing(f):\n",
    "    def wrap(*args):\n",
    "        time1 = time.time()\n",
    "        ret = f(*args)\n",
    "        time2 = time.time()\n",
    "        print('{:s} function took {:.3f} ms'.format(f.__name__, (time2-time1)*1000.0))\n",
    "\n",
    "        return ret\n",
    "    return wrap"
   ]
  },
  {
   "cell_type": "code",
   "execution_count": 2,
   "metadata": {},
   "outputs": [
    {
     "data": {
      "text/plain": [
       "{u'.apm-agent-configuration': {u'aliases': {}},\n",
       " u'.kibana_1': {u'aliases': {u'.kibana': {}}},\n",
       " u'.kibana_task_manager_1': {u'aliases': {u'.kibana_task_manager': {}}},\n",
       " u'montevideo': {u'aliases': {}}}"
      ]
     },
     "execution_count": 2,
     "metadata": {},
     "output_type": "execute_result"
    }
   ],
   "source": [
    "es.indices.get_alias(\"*\")"
   ]
  },
  {
   "cell_type": "code",
   "execution_count": 57,
   "metadata": {},
   "outputs": [],
   "source": [
    "from elasticsearch.client import IndicesClient\n",
    "ic = IndicesClient(es)"
   ]
  },
  {
   "cell_type": "code",
   "execution_count": 109,
   "metadata": {},
   "outputs": [],
   "source": [
    "text = 'Siento mucha tristeza al ver esto en Montevideo. Una persona compartió esta imagen que ocurrió hace minutos en la esquina de Salto y (Bernabé) Rivera. La cantidad de personas en situación de calle creció en la capital. Hay planes para mejorar esta realidad, pero duele verla.'"
   ]
  },
  {
   "cell_type": "code",
   "execution_count": 94,
   "metadata": {},
   "outputs": [],
   "source": [
    "text = 'Mucha basura suelta por Varela frente al Policial'"
   ]
  },
  {
   "cell_type": "code",
   "execution_count": 161,
   "metadata": {},
   "outputs": [],
   "source": [
    "text = 'En Montevideo podés ir a Porongos esquina Blandengues Upside-down face'"
   ]
  },
  {
   "cell_type": "code",
   "execution_count": 182,
   "metadata": {},
   "outputs": [],
   "source": [
    "text = '18 de Julio esquina Aquiles Lanza, Montevideo, Uruguay'"
   ]
  },
  {
   "cell_type": "code",
   "execution_count": 187,
   "metadata": {},
   "outputs": [],
   "source": [
    "text = 'Roban estación de servicio  esquina Montevideo shopping. Hace una semana robaron una joyería a 50 metros de esa estación de servicio. Lugar de mucho tránsito de personas y vehículos. Lleno de camaras de video vigilancia y PADO Man police officerDown pointing backhand index'"
   ]
  },
  {
   "cell_type": "code",
   "execution_count": 195,
   "metadata": {},
   "outputs": [],
   "source": [
    "text = 'En esta foto estas en que lugar de Europa, amorosa? Ésta estuvo en el cerro de montevideo, calle Venezuela esquina Bogotá....Jaaaa....sos una genia! Smiling face with open mouth and smiling eyes'"
   ]
  },
  {
   "cell_type": "code",
   "execution_count": 202,
   "metadata": {},
   "outputs": [],
   "source": [
    "text = 'Construction sign👷🏻‍| #MontevideoMejora Round pushpin Av. Italia de Gallinal a Bolivia, luce más amplia y linda Bus Un carril más para el bus Splashing sweat symbol Mejor captación de aguas pluviales 🅿 Refugios Bicycle Bicisenda Electric light bulb 40 nuevas columnas de alumbrado y 80 luminarias LED Más info: Mobile phone with rightwards arrow at left http://bit.ly/3bbb3jA'"
   ]
  },
  {
   "cell_type": "code",
   "execution_count": 216,
   "metadata": {},
   "outputs": [],
   "source": [
    "text = '@quejasyaEn la esquina de Montevideo Shopping hay una \"montaña\" de basura (Galarza y Tiburcio Gómez)'"
   ]
  },
  {
   "cell_type": "code",
   "execution_count": 219,
   "metadata": {},
   "outputs": [],
   "source": [
    "text = 'Cheering megaphone Modificación de paradas para líneas 147 y 148 hacia afuera Calendar Desde el 5 de marzo Cross mark Se suprime la parada de Paysandú esquina Tristán Narvaja Hourglass Funciona provisoriamente en Tristán Narvaja esquina Cerro Largo'"
   ]
  },
  {
   "cell_type": "code",
   "execution_count": 230,
   "metadata": {},
   "outputs": [],
   "source": [
    "text = 'Un hecho histórico en la Medicina Mundial. Ciudad de Montevideo. Esquina de Colonia y Arenal Grande. CASMU 1'"
   ]
  },
  {
   "cell_type": "code",
   "execution_count": 233,
   "metadata": {},
   "outputs": [],
   "source": [
    "text = 'Cno. de las Tropas esquina Verdún'"
   ]
  },
  {
   "cell_type": "code",
   "execution_count": 236,
   "metadata": {},
   "outputs": [],
   "source": [
    "text = '¡Hola! Para este tipo de errores en el registro debes acudir a nuestra oficina, allí te darán la información y la ayuda necesaria para corregir este error y completar tu proceso. Recuerda que nuestra oficina está ubicada en Montevideo, José Ellauri 938, esquina Benito Lamas. 🚴🏽Sparkling heart'"
   ]
  },
  {
   "cell_type": "code",
   "execution_count": 239,
   "metadata": {},
   "outputs": [],
   "source": [
    "text = '🚧❌ | MEDIA CALZADA 📍 26 DE MARZO entre L.A. de Herrera y Marco Bruto 🕖 De 7 a 16 h  📍 JOSÉ ELLAURI esquina Leyenda Patria 🕖 De 7 a 17 h  📍 LAGUNILLAS esquina Joaquín Núñez 🕖 De 8 a 18 h  📍 8 DE OCTUBRE desde 18 de Julio hasta Colonia 🕖 De 8 a 18 h'"
   ]
  },
  {
   "cell_type": "code",
   "execution_count": 245,
   "metadata": {},
   "outputs": [],
   "source": [
    "text = 'Speaker with three sound waves “Durazno y Convención” es una canción de 1984, que hoy es un tema que se puede escuchar mismo en la esquina sobre la que habla la letraRound pushpin  Ya que es un punto de Montevideo Sonoro Mobile phone Headphone'"
   ]
  },
  {
   "cell_type": "code",
   "execution_count": 248,
   "metadata": {},
   "outputs": [],
   "source": [
    "text = 'En la ciudad de Montevideo, hace ya bastante tiempo, están dibujados los hongos de Super Mario Bros. En avenida Uruguay esquina Arenal Grande, está dibujado un hongo rojo. En avenida San Martín esquina Libres, está dibujado un hongo verde. Smiling face with heart-shaped eyes'"
   ]
  },
  {
   "cell_type": "code",
   "execution_count": 251,
   "metadata": {},
   "outputs": [],
   "source": [
    "text = 'Alquiler anual. Centro de Montevideo 1 dormitorio $19.000 Héctor Gutiérrez Ruiz esquina San José Coordine visitas al 094283539 Llamadas o wsp'"
   ]
  },
  {
   "cell_type": "code",
   "execution_count": 254,
   "metadata": {},
   "outputs": [],
   "source": [
    "text = '¿Sos marica que usás vestido? Utilizando ésta frase tres efectivos de la Guardia Republicana apalearon a Joel, artista callejero que trabaja habitualmente en Millán y Garzón.'"
   ]
  },
  {
   "cell_type": "code",
   "execution_count": 255,
   "metadata": {},
   "outputs": [
    {
     "name": "stdout",
     "output_type": "stream",
     "text": [
      "sos\n",
      "marica\n",
      "usas\n",
      "vestido\n",
      "utilizando\n",
      "frase\n",
      "tres\n",
      "efectivos\n",
      "guardia\n",
      "republicana\n",
      "apalearon\n",
      "joel\n",
      "artista\n",
      "callejero\n",
      "trabaja\n",
      "habitualmente\n",
      "millan\n",
      "garzon\n"
     ]
    }
   ],
   "source": [
    "results = ic.analyze(index=\"montevideo\", body=\n",
    "{\n",
    "  \"text\": text, \n",
    "    \"analyzer\":\"calle_analyzer\"\n",
    "})\n",
    "for result in results['tokens']:\n",
    "    print(result['token'])"
   ]
  },
  {
   "cell_type": "code",
   "execution_count": 242,
   "metadata": {},
   "outputs": [],
   "source": [
    "#@timing\n",
    "def search(text):\n",
    "    return es.search(index=\"montevideo\", body=\n",
    "        {\n",
    "            \"from\" : 0, \"size\" : 500,\n",
    "              \"query\": {\n",
    "                \"simple_query_string\" : {\n",
    "                    \"query\": text,\n",
    "                    \"analyzer\": \"calle_analyzer\"\n",
    "                }\n",
    "              }\n",
    "        })['hits']['hits']"
   ]
  },
  {
   "cell_type": "code",
   "execution_count": 212,
   "metadata": {},
   "outputs": [],
   "source": [
    "#@timing\n",
    "def search_geo(id):\n",
    "    return es.search(index=\"montevideo\", body=\n",
    "    {\n",
    "        \"from\" : 0, \"size\" : 100,\n",
    "        \"query\" : {\n",
    "            \"bool\": {\n",
    "                \"filter\": {\n",
    "                    \"geo_shape\": {\n",
    "                        \"geometry\": {\n",
    "                            \"indexed_shape\": {\n",
    "                                \"index\": \"montevideo\",\n",
    "                                \"id\": id,\n",
    "                                \"path\": \"geometry\"\n",
    "                            }\n",
    "                        }\n",
    "                    }\n",
    "                }\n",
    "            }\n",
    "        }\n",
    "    })['hits']['hits']"
   ]
  },
  {
   "cell_type": "code",
   "execution_count": null,
   "metadata": {},
   "outputs": [],
   "source": [
    "def tryToMatchLines():\n",
    "    "
   ]
  },
  {
   "cell_type": "code",
   "execution_count": 257,
   "metadata": {},
   "outputs": [],
   "source": [
    "@timing\n",
    "def complete_search(text):\n",
    "    match_dict = {}\n",
    "    matchs = []\n",
    "    state = {}\n",
    "    results = search(text)\n",
    "    filtered_results = []\n",
    "    \n",
    "    for result in results:\n",
    "        if (result['_source']['type'] != 'limites_barrios'):\n",
    "            state[result['_id']] = {\"_source\":result['_source'],\"_score\":result['_score']}\n",
    "            filtered_results.append(result)\n",
    "\n",
    "    for result in filtered_results:\n",
    "        nombre = result['_source']['nombre'].encode('ascii', 'ignore').decode('ascii')\n",
    "        if nombre in match_dict.keys() or nombre in match_dict.values():\n",
    "            continuematch_dict\n",
    "        #print('{}\\t\\t{}\\t\\t{} {}'.format(result['_id'],nombre,result['_source']['geometry']['type'],result['_score']))\n",
    "        for geo_result in search_geo(result[\"_id\"]):\n",
    "            geo_nombre = 'NO_NAME'\n",
    "            if geo_result['_source'].get('nombre',None):\n",
    "                geo_nombre = geo_result['_source']['nombre'].encode('ascii', 'ignore').decode('ascii')\n",
    "            elif geo_result['_source'].get('aliases',None):\n",
    "                geo_nombre = geo_result['_source']['aliases'].encode('ascii', 'ignore').decode('ascii')\n",
    "            if geo_result['_id'] != result['_id'] and geo_nombre != nombre:\n",
    "                #print('\\t{}\\t{}\\t\\t{}'.format(geo_result['_id'], geo_nombre, geo_result['_source']['geometry']['type']))\n",
    "                if geo_result['_id'] in state.keys():\n",
    "                    print ('MATCH: {}\\t{}\\t/\\t{}\\t{}'.format(nombre,result['_score'],geo_nombre,state[geo_result['_id']]['_score']))\n",
    "                    match_dict[nombre] = geo_nombre\n",
    "                    match_dict[geo_nombre] = nombre\n",
    "                    matchs.append([result[\"_id\"],geo_result['_id']])\n",
    "    return (matchs,state)"
   ]
  },
  {
   "cell_type": "code",
   "execution_count": 258,
   "metadata": {},
   "outputs": [
    {
     "name": "stdout",
     "output_type": "stream",
     "text": [
      "MATCH: AV MILLAN\t11.369972\t/\tAV GRAL EUGENIO GARZON\t8.961531\n",
      "complete_search function took 328.241 ms\n"
     ]
    }
   ],
   "source": [
    "(matchs,state) = complete_search(text)"
   ]
  },
  {
   "cell_type": "code",
   "execution_count": 215,
   "metadata": {},
   "outputs": [
    {
     "data": {
      "text/plain": [
       "[]"
      ]
     },
     "execution_count": 215,
     "metadata": {},
     "output_type": "execute_result"
    }
   ],
   "source": [
    "matchs"
   ]
  },
  {
   "cell_type": "code",
   "execution_count": 98,
   "metadata": {},
   "outputs": [
    {
     "name": "stdout",
     "output_type": "stream",
     "text": [
      "(6.5457935, u'v_mdg_vias-287716', u'v_mdg_vias', u'FLORENCIO VARELA', u'LineString')\n",
      "(6.5457935, u'v_mdg_vias-7084344', u'v_mdg_vias', u'WENCESLAO VARELA', u'LineString')\n",
      "(6.5457935, u'v_mdg_vias-6433252', u'v_mdg_vias', u'FLORENCIO VARELA', u'LineString')\n",
      "(6.5457935, u'v_mdg_vias-6433297', u'v_mdg_vias', u'FLORENCIO VARELA', u'LineString')\n",
      "(6.5457935, u'v_mdg_vias-287853', u'v_mdg_vias', u'FLORENCIO VARELA', u'LineString')\n",
      "(6.527852, u'geonames_uy_montevideo-7211405', u'geonames_uy_montevideo', u'Hospital Policial Inspector General Uruguay Genta', u'Point')\n",
      "(5.572977, u'v_mdg_vias-7362536', u'v_mdg_vias', u'JUAN CRUZ VARELA', u'LineString')\n",
      "(5.572977, u'v_mdg_vias-7595328', u'v_mdg_vias', u'AV JACOBO VARELA', u'LineString')\n",
      "(5.572977, u'v_mdg_vias-7595334', u'v_mdg_vias', u'AV JACOBO VARELA', u'LineString')\n",
      "(5.572977, u'v_mdg_vias-6373779', u'v_mdg_vias', u'AV JACOBO VARELA', u'LineString')\n",
      "(5.572977, u'v_mdg_vias-295791', u'v_mdg_vias', u'JUAN CRUZ VARELA', u'LineString')\n",
      "(5.572977, u'v_mdg_vias-5158371', u'v_mdg_vias', u'AV JACOBO VARELA', u'LineString')\n",
      "(5.572977, u'v_mdg_vias-5167672', u'v_mdg_vias', u'AV JACOBO VARELA', u'LineString')\n",
      "(5.572977, u'v_mdg_vias-5167673', u'v_mdg_vias', u'AV JACOBO VARELA', u'LineString')\n",
      "(5.572977, u'v_mdg_vias-5167704', u'v_mdg_vias', u'AV JACOBO VARELA', u'LineString')\n",
      "(5.572977, u'v_mdg_vias-5167705', u'v_mdg_vias', u'AV JACOBO VARELA', u'LineString')\n",
      "(5.572977, u'v_mdg_vias-5167706', u'v_mdg_vias', u'AV JACOBO VARELA', u'LineString')\n",
      "(5.572977, u'v_mdg_vias-5167710', u'v_mdg_vias', u'AV JACOBO VARELA', u'LineString')\n",
      "(5.572977, u'v_mdg_vias-5167724', u'v_mdg_vias', u'AV JACOBO VARELA', u'LineString')\n",
      "(5.572977, u'v_mdg_vias-5170867', u'v_mdg_vias', u'AV JACOBO VARELA', u'LineString')\n",
      "(5.572977, u'v_mdg_vias-5170870', u'v_mdg_vias', u'AV JACOBO VARELA', u'LineString')\n",
      "(5.572977, u'v_mdg_vias-5170871', u'v_mdg_vias', u'AV JACOBO VARELA', u'LineString')\n",
      "(5.572977, u'v_mdg_vias-5170877', u'v_mdg_vias', u'AV JACOBO VARELA', u'LineString')\n",
      "(5.572977, u'v_mdg_vias-5170878', u'v_mdg_vias', u'AV JACOBO VARELA', u'LineString')\n",
      "(5.572977, u'v_mdg_vias-5170882', u'v_mdg_vias', u'AV JACOBO VARELA', u'LineString')\n",
      "(5.572977, u'v_mdg_vias-5170886', u'v_mdg_vias', u'AV JACOBO VARELA', u'LineString')\n",
      "(5.572977, u'v_mdg_vias-302728', u'v_mdg_vias', u'AV JACOBO VARELA', u'LineString')\n",
      "(5.572977, u'v_mdg_vias-302731', u'v_mdg_vias', u'AV JACOBO VARELA', u'LineString')\n",
      "(5.572977, u'v_mdg_vias-302734', u'v_mdg_vias', u'AV JACOBO VARELA', u'LineString')\n",
      "(5.572977, u'v_mdg_vias-302735', u'v_mdg_vias', u'AV JACOBO VARELA', u'LineString')\n"
     ]
    }
   ],
   "source": [
    "results = es.search(index=\"montevideo\", body=\n",
    "{\n",
    "    \"from\" : 0, \"size\" : 30,\n",
    "    \"query\" : {\n",
    "        \"query_string\" : {\n",
    "            \"query\" : text,\n",
    "            \"analyzer\": \"calle_analyzer\"\n",
    "        }\n",
    "    }\n",
    "})\n",
    "for result in results['hits']['hits']:\n",
    "    print(result['_score'],result['_id'],result['_source']['type'],result['_source']['nombre'], result['_source']['geometry']['type'])"
   ]
  },
  {
   "cell_type": "code",
   "execution_count": 99,
   "metadata": {},
   "outputs": [
    {
     "name": "stdout",
     "output_type": "stream",
     "text": [
      "(0.0, u'v_mdg_vias-287716', u'v_mdg_vias', u'FLORENCIO VARELA', u'LineString')\n",
      "(0.0, u'v_mdg_vias-287824', u'v_mdg_vias', u'ANZANI', u'LineString')\n",
      "(0.0, u'limites_barrios-10', u'limites_barrios', u'PQUE BATLLE VILLA DOLORES', u'Polygon')\n"
     ]
    }
   ],
   "source": [
    "\n",
    "for result in results_2:\n"
   ]
  },
  {
   "cell_type": "code",
   "execution_count": null,
   "metadata": {},
   "outputs": [],
   "source": []
  }
 ],
 "metadata": {
  "kernelspec": {
   "display_name": "Python 2",
   "language": "python",
   "name": "python2"
  },
  "language_info": {
   "codemirror_mode": {
    "name": "ipython",
    "version": 2
   },
   "file_extension": ".py",
   "mimetype": "text/x-python",
   "name": "python",
   "nbconvert_exporter": "python",
   "pygments_lexer": "ipython2",
   "version": "2.7.13"
  }
 },
 "nbformat": 4,
 "nbformat_minor": 2
}
