{
 "cells": [
  {
   "cell_type": "code",
   "execution_count": 1,
   "metadata": {},
   "outputs": [
    {
     "name": "stderr",
     "output_type": "stream",
     "text": [
      "/usr/local/lib/python2.7/dist-packages/requests/__init__.py:80: RequestsDependencyWarning: urllib3 (1.25.8) or chardet (3.0.4) doesn't match a supported version!\n",
      "  RequestsDependencyWarning)\n"
     ]
    }
   ],
   "source": [
    "from datetime import datetime\n",
    "from elasticsearch import Elasticsearch\n",
    "es = Elasticsearch([{'host': 'elasticsearch', 'port': 9200}])"
   ]
  },
  {
   "cell_type": "code",
   "execution_count": 2,
   "metadata": {},
   "outputs": [
    {
     "data": {
      "text/plain": [
       "{u'.apm-agent-configuration': {u'aliases': {}},\n",
       " u'.kibana_1': {u'aliases': {u'.kibana': {}}},\n",
       " u'.kibana_task_manager_1': {u'aliases': {u'.kibana_task_manager': {}}},\n",
       " u'montevideo': {u'aliases': {}}}"
      ]
     },
     "execution_count": 2,
     "metadata": {},
     "output_type": "execute_result"
    }
   ],
   "source": [
    "es.indices.get_alias(\"*\")"
   ]
  },
  {
   "cell_type": "code",
   "execution_count": 34,
   "metadata": {},
   "outputs": [],
   "source": [
    "text = ' de Salto y (Bernabé) Rivera. '"
   ]
  },
  {
   "cell_type": "code",
   "execution_count": 35,
   "metadata": {},
   "outputs": [],
   "source": [
    "results = es.search(index=\"montevideo\", body=\n",
    "{\n",
    "    \"query\" : {\n",
    "        \"match\" : { \n",
    "            \"message\" : {\n",
    "                \"query\" : text,\n",
    "\n",
    "            }\n",
    "        }\n",
    "    }\n",
    "})\n",
    "for result in results['hits']['hits']:\n",
    "    print(result['_score'],result['_source']['type'],result['_source']['nombre'])"
   ]
  },
  {
   "cell_type": "code",
   "execution_count": 26,
   "metadata": {},
   "outputs": [
    {
     "name": "stdout",
     "output_type": "stream",
     "text": [
      "(12.048357, u'v_mdg_vias', u'RECONQUISTA')\n",
      "(12.048357, u'v_mdg_vias', u'RECONQUISTA')\n",
      "(12.048357, u'v_mdg_vias', u'RECONQUISTA')\n",
      "(6.7747774, u'v_mdg_vias', u'PSJE MANUEL PEREZ Y CURIS')\n",
      "(6.7747774, u'v_mdg_vias', u'PSJE MANUEL PEREZ Y CURIS')\n",
      "(6.1521435, u'geonames_uy_montevideo', u'Molino de Perez')\n",
      "(6.0475097, u'v_mdg_vias', u'PEREZ CASTELLANO')\n",
      "(6.0475097, u'v_mdg_vias', u'PEREZ CASTELLANO')\n",
      "(6.0475097, u'v_mdg_vias', u'PABLO PEREZ')\n",
      "(6.0475097, u'v_mdg_vias', u'PEREZ GOMAR')\n"
     ]
    }
   ],
   "source": [
    "results = es.search(index=\"montevideo\", body=\n",
    "{\n",
    "    \"query\" : {\n",
    "        \"query_string\" : {\n",
    "            \"query\" : \"reconquista y perez\"\n",
    "        }\n",
    "    }\n",
    "})\n",
    "for result in results['hits']['hits']:\n",
    "    print(result['_score'],result['_source']['type'],result['_source']['nombre'])"
   ]
  },
  {
   "cell_type": "code",
   "execution_count": null,
   "metadata": {},
   "outputs": [],
   "source": []
  }
 ],
 "metadata": {
  "kernelspec": {
   "display_name": "Python 2",
   "language": "python",
   "name": "python2"
  },
  "language_info": {
   "codemirror_mode": {
    "name": "ipython",
    "version": 2
   },
   "file_extension": ".py",
   "mimetype": "text/x-python",
   "name": "python",
   "nbconvert_exporter": "python",
   "pygments_lexer": "ipython2",
   "version": "2.7.13"
  }
 },
 "nbformat": 4,
 "nbformat_minor": 2
}
