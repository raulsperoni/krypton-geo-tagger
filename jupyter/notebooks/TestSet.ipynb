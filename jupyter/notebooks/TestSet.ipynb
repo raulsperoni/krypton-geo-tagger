{
 "cells": [
  {
   "cell_type": "code",
   "execution_count": 1,
   "metadata": {},
   "outputs": [
    {
     "name": "stderr",
     "output_type": "stream",
     "text": [
      "/usr/local/lib/python2.7/dist-packages/requests/__init__.py:80: RequestsDependencyWarning: urllib3 (1.25.8) or chardet (3.0.4) doesn't match a supported version!\n",
      "  RequestsDependencyWarning)\n"
     ]
    }
   ],
   "source": [
    "from datetime import datetime\n",
    "from elasticsearch import Elasticsearch\n",
    "es = Elasticsearch([{'host': '10.191.1.241', 'port': 9200}])"
   ]
  },
  {
   "cell_type": "code",
   "execution_count": 5,
   "metadata": {},
   "outputs": [],
   "source": [
    "#@timing\n",
    "def search(text):\n",
    "    return es.search(index=\"tweets-enriquecer*\", body=\n",
    "        {\n",
    "            \"from\" : 0, \"size\" : 500,\n",
    "              \"query\": {\n",
    "                \"simple_query_string\" : {\n",
    "                    \"query\": text                }\n",
    "              }\n",
    "        })['hits']['hits']"
   ]
  },
  {
   "cell_type": "code",
   "execution_count": 7,
   "metadata": {},
   "outputs": [],
   "source": [
    "textos = []\n",
    "for res in search('esquina'):\n",
    "    textos.append(res['_source']['tweet_content'])"
   ]
  },
  {
   "cell_type": "code",
   "execution_count": 9,
   "metadata": {},
   "outputs": [],
   "source": [
    "import csv\n",
    "\n",
    "with open('test_set_esquinas.csv', mode='w') as textos_file:\n",
    "    t_writer = csv.writer(textos_file, delimiter=',', quotechar='\"', quoting=csv.QUOTE_MINIMAL)\n",
    "    for texto in textos:\n",
    "        t_writer.writerow([texto.encode('ascii', 'ignore').decode('ascii')])"
   ]
  },
  {
   "cell_type": "code",
   "execution_count": 20,
   "metadata": {},
   "outputs": [],
   "source": [
    "import pandas as pd\n",
    "test_set = pd.read_csv(\"test_set_esquinas.csv\")"
   ]
  },
  {
   "cell_type": "code",
   "execution_count": 21,
   "metadata": {},
   "outputs": [],
   "source": [
    "test_set = test_set.drop_duplicates()"
   ]
  },
  {
   "cell_type": "code",
   "execution_count": 22,
   "metadata": {},
   "outputs": [],
   "source": [
    "test_set.to_csv('test_set_esquinas_clean.csv')"
   ]
  },
  {
   "cell_type": "code",
   "execution_count": 15,
   "metadata": {},
   "outputs": [],
   "source": [
    "from datetime import datetime\n",
    "from elasticsearch import Elasticsearch\n",
    "es_local = Elasticsearch([{'host': 'elasticsearch', 'port': 9200}])\n",
    "from elasticsearch.client import IndicesClient\n",
    "ic = IndicesClient(es_local)\n",
    "def analyzedText(text):\n",
    "    results = ic.analyze(index=\"montevideo\", body=\n",
    "    {\n",
    "      \"text\": text, \n",
    "        \"analyzer\":\"calle_analyzer\"\n",
    "    })\n",
    "    return ' '.join([token['token'] for token in results['tokens']])"
   ]
  },
  {
   "cell_type": "code",
   "execution_count": 18,
   "metadata": {},
   "outputs": [],
   "source": [
    "with open('test_set_esquinas.csv', mode='w') as textos_file:\n",
    "    t_writer = csv.writer(textos_file, delimiter=',', quotechar='\"', quoting=csv.QUOTE_MINIMAL)\n",
    "    for texto in textos:\n",
    "        t_writer.writerow([analyzedText(texto).encode('ascii', 'ignore').decode('ascii')])"
   ]
  },
  {
   "cell_type": "code",
   "execution_count": null,
   "metadata": {},
   "outputs": [],
   "source": []
  }
 ],
 "metadata": {
  "kernelspec": {
   "display_name": "Python 2",
   "language": "python",
   "name": "python2"
  },
  "language_info": {
   "codemirror_mode": {
    "name": "ipython",
    "version": 2
   },
   "file_extension": ".py",
   "mimetype": "text/x-python",
   "name": "python",
   "nbconvert_exporter": "python",
   "pygments_lexer": "ipython2",
   "version": "2.7.13"
  }
 },
 "nbformat": 4,
 "nbformat_minor": 2
}
