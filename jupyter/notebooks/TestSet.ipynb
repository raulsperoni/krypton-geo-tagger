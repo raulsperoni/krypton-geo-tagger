{
 "cells": [
  {
   "cell_type": "code",
   "execution_count": 1,
   "metadata": {},
   "outputs": [
    {
     "name": "stderr",
     "output_type": "stream",
     "text": [
      "/usr/local/lib/python2.7/dist-packages/requests/__init__.py:80: RequestsDependencyWarning: urllib3 (1.25.8) or chardet (3.0.4) doesn't match a supported version!\n",
      "  RequestsDependencyWarning)\n"
     ]
    }
   ],
   "source": [
    "from datetime import datetime\n",
    "from elasticsearch import Elasticsearch\n",
    "es = Elasticsearch([{'host': '10.191.1.241', 'port': 9200}])"
   ]
  },
  {
   "cell_type": "code",
   "execution_count": null,
   "metadata": {},
   "outputs": [],
   "source": [
    "results = serch_score_range()\n",
    "print(len(results))"
   ]
  },
  {
   "cell_type": "code",
   "execution_count": null,
   "metadata": {},
   "outputs": [],
   "source": [
    "tuples = []\n",
    "for res in results:\n",
    "    tuples.append((res['_source']['tweet_content'].encode('ascii', 'ignore').decode('ascii'),\n",
    "          res['_source']['enriched']['location']['name'],\n",
    "          res['_source']['enriched']['location']['score'],\n",
    "          res['_source']['enriched']['location']['time_ms']))\n",
    "import pandas as pd\n",
    "df = pd.DataFrame(tuples, columns=['text', 'name', 'score','time_ms'])"
   ]
  },
  {
   "cell_type": "code",
   "execution_count": null,
   "metadata": {},
   "outputs": [],
   "source": [
    "df"
   ]
  },
  {
   "cell_type": "code",
   "execution_count": null,
   "metadata": {},
   "outputs": [],
   "source": [
    "df.to_csv('new_method.csv')"
   ]
  },
  {
   "cell_type": "code",
   "execution_count": null,
   "metadata": {},
   "outputs": [],
   "source": [
    "from lib import geoSearch\n",
    "import json\n",
    "GS = geoSearch.GeoSearch(\"elasticsearch-geo\",9200)\n",
    "from shapely.geometry import mapping, shape"
   ]
  },
  {
   "cell_type": "code",
   "execution_count": null,
   "metadata": {},
   "outputs": [],
   "source": [
    "tuples = []\n",
    "for res in results:\n",
    "    text = res['_source']['tweet_content'].encode('ascii', 'ignore').decode('ascii')\n",
    "    try:\n",
    "        name, score, bp = GS.get_result(res['_source']['tweet_content'])\n",
    "    except Exception, e:\n",
    "        name, score, bp = \"\",0,\"\"\n",
    "    tuples.append((text,\n",
    "          res['_source']['enriched']['location']['name'],\n",
    "          res['_source']['enriched']['location']['score'],\n",
    "          res['_source']['enriched']['location']['time_ms'],\n",
    "                  name,\n",
    "                  score))\n",
    "import pandas as pd\n",
    "df = pd.DataFrame(tuples, columns=['text', 'name', 'score','time_ms','new_name', 'new_score'])"
   ]
  },
  {
   "cell_type": "code",
   "execution_count": null,
   "metadata": {},
   "outputs": [],
   "source": [
    "df"
   ]
  },
  {
   "cell_type": "code",
   "execution_count": null,
   "metadata": {},
   "outputs": [],
   "source": [
    "df.to_csv('new_method_compare.csv')"
   ]
  },
  {
   "cell_type": "code",
   "execution_count": null,
   "metadata": {},
   "outputs": [],
   "source": [
    "df.to_pickle(\"./df_second_method.pkl\")"
   ]
  },
  {
   "cell_type": "code",
   "execution_count": null,
   "metadata": {},
   "outputs": [],
   "source": []
  }
 ],
 "metadata": {
  "kernelspec": {
   "display_name": "Python 2",
   "language": "python",
   "name": "python2"
  },
  "language_info": {
   "codemirror_mode": {
    "name": "ipython",
    "version": 2
   },
   "file_extension": ".py",
   "mimetype": "text/x-python",
   "name": "python",
   "nbconvert_exporter": "python",
   "pygments_lexer": "ipython2",
   "version": "2.7.13"
  }
 },
 "nbformat": 4,
 "nbformat_minor": 2
}
